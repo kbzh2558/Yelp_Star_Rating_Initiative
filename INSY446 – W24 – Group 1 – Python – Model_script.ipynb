{
 "cells": [
  {
   "cell_type": "code",
   "execution_count": 1,
   "metadata": {
    "id": "g5SOX9oW_UET"
   },
   "outputs": [],
   "source": [
    "import pandas as pd\n",
    "import numpy as np\n",
    "import seaborn as sns"
   ]
  },
  {
   "cell_type": "code",
   "execution_count": 2,
   "metadata": {
    "id": "iFrRu7I4_UEW"
   },
   "outputs": [],
   "source": [
    "### Helpers\n",
    "\n",
    "import matplotlib.pyplot as plt\n",
    "import numpy as np\n",
    "from sklearn.metrics import confusion_matrix\n",
    "\n",
    "\n",
    "def show_confusion_matrix(y_test, y_pred, normalize=True, figsize=(10,10)):\n",
    "    cm = confusion_matrix(y_test, y_pred)\n",
    "\n",
    "    # Normalize the confusion matrix\n",
    "    if normalize:\n",
    "        cm = cm.astype('float') / cm.sum(axis=1)[:, np.newaxis]\n",
    "\n",
    "    # Define class labels\n",
    "    labels = np.unique(y_test)\n",
    "\n",
    "    if normalize:\n",
    "        title = \"Normalized Confusion Matrix\"\n",
    "    else:\n",
    "        title = \"Confusion Matrix\"\n",
    "\n",
    "    # Create plot\n",
    "    fig, ax = plt.subplots(figsize=figsize)\n",
    "    im = ax.imshow(cm, interpolation='nearest', cmap=plt.cm.Blues)\n",
    "    ax.figure.colorbar(im, ax=ax)\n",
    "    ax.set(xticks=np.arange(cm.shape[1]),\n",
    "        yticks=np.arange(cm.shape[0]),\n",
    "        xticklabels=labels, yticklabels=labels,\n",
    "        xlabel='Predicted label',\n",
    "        ylabel='True label',\n",
    "        title=title)\n",
    "\n",
    "    # Loop over data dimensions and create text annotations\n",
    "    thresh = cm.max() / 2.\n",
    "    for i in range(cm.shape[0]):\n",
    "        for j in range(cm.shape[1]):\n",
    "            ax.text(j, i, format(cm[i, j], '.2f'),\n",
    "                    ha=\"center\", va=\"center\",\n",
    "                    color=\"white\" if cm[i, j] > thresh else \"black\")\n",
    "\n",
    "    plt.show()"
   ]
  },
  {
   "cell_type": "code",
   "execution_count": 3,
   "metadata": {
    "id": "FK81Kjga_UEX"
   },
   "outputs": [],
   "source": [
    "df = pd.read_csv(\"processed_data.csv\", index_col=0)"
   ]
  },
  {
   "cell_type": "code",
   "execution_count": 4,
   "metadata": {
    "colab": {
     "base_uri": "https://localhost:8080/",
     "height": 255
    },
    "executionInfo": {
     "elapsed": 20,
     "status": "ok",
     "timestamp": 1711486646419,
     "user": {
      "displayName": "Keane Dylan",
      "userId": "00724804467965899666"
     },
     "user_tz": 240
    },
    "id": "12NRmVlQ_UEX",
    "outputId": "40764c84-a6a1-42d9-cd92-2f505fd51026"
   },
   "outputs": [
    {
     "data": {
      "text/html": [
       "<div>\n",
       "<style scoped>\n",
       "    .dataframe tbody tr th:only-of-type {\n",
       "        vertical-align: middle;\n",
       "    }\n",
       "\n",
       "    .dataframe tbody tr th {\n",
       "        vertical-align: top;\n",
       "    }\n",
       "\n",
       "    .dataframe thead th {\n",
       "        text-align: right;\n",
       "    }\n",
       "</style>\n",
       "<table border=\"1\" class=\"dataframe\">\n",
       "  <thead>\n",
       "    <tr style=\"text-align: right;\">\n",
       "      <th></th>\n",
       "      <th>business_id</th>\n",
       "      <th>stars</th>\n",
       "      <th>review_count</th>\n",
       "      <th>label</th>\n",
       "      <th>sentiment_comment</th>\n",
       "      <th>subjectivity_comment</th>\n",
       "      <th>sentiment_tip</th>\n",
       "      <th>subjectivity_tip</th>\n",
       "      <th>checkins</th>\n",
       "      <th>ByAppointmentOnly_False</th>\n",
       "      <th>...</th>\n",
       "      <th>DogsAllowed_True</th>\n",
       "      <th>BusinessAcceptsBitcoin_False</th>\n",
       "      <th>BusinessAcceptsBitcoin_Na</th>\n",
       "      <th>BusinessAcceptsBitcoin_True</th>\n",
       "      <th>Open24Hours_False</th>\n",
       "      <th>Open24Hours_Na</th>\n",
       "      <th>Open24Hours_True</th>\n",
       "      <th>AgesAllowed_False</th>\n",
       "      <th>AgesAllowed_Na</th>\n",
       "      <th>AgesAllowed_True</th>\n",
       "    </tr>\n",
       "  </thead>\n",
       "  <tbody>\n",
       "    <tr>\n",
       "      <th>0</th>\n",
       "      <td>FYWN1wneV18bWNgQjJ2GNg</td>\n",
       "      <td>4.0</td>\n",
       "      <td>22</td>\n",
       "      <td>NaN</td>\n",
       "      <td>0.276481</td>\n",
       "      <td>0.562467</td>\n",
       "      <td>0.643083</td>\n",
       "      <td>0.692667</td>\n",
       "      <td>1.0</td>\n",
       "      <td>0.0</td>\n",
       "      <td>...</td>\n",
       "      <td>0.0</td>\n",
       "      <td>0.0</td>\n",
       "      <td>1.0</td>\n",
       "      <td>0.0</td>\n",
       "      <td>0.0</td>\n",
       "      <td>1.0</td>\n",
       "      <td>0.0</td>\n",
       "      <td>0.0</td>\n",
       "      <td>1.0</td>\n",
       "      <td>0.0</td>\n",
       "    </tr>\n",
       "    <tr>\n",
       "      <th>1</th>\n",
       "      <td>He-G7vWjzVUysIKrfNbPUQ</td>\n",
       "      <td>3.0</td>\n",
       "      <td>11</td>\n",
       "      <td>NaN</td>\n",
       "      <td>0.277838</td>\n",
       "      <td>0.608054</td>\n",
       "      <td>0.650000</td>\n",
       "      <td>0.662500</td>\n",
       "      <td>1.0</td>\n",
       "      <td>0.0</td>\n",
       "      <td>...</td>\n",
       "      <td>0.0</td>\n",
       "      <td>0.0</td>\n",
       "      <td>1.0</td>\n",
       "      <td>0.0</td>\n",
       "      <td>0.0</td>\n",
       "      <td>1.0</td>\n",
       "      <td>0.0</td>\n",
       "      <td>0.0</td>\n",
       "      <td>1.0</td>\n",
       "      <td>0.0</td>\n",
       "    </tr>\n",
       "    <tr>\n",
       "      <th>2</th>\n",
       "      <td>KQPW8lFf1y5BT2MxiSZ3QA</td>\n",
       "      <td>1.5</td>\n",
       "      <td>18</td>\n",
       "      <td>NaN</td>\n",
       "      <td>-0.044467</td>\n",
       "      <td>0.507554</td>\n",
       "      <td>0.000000</td>\n",
       "      <td>0.500000</td>\n",
       "      <td>1.0</td>\n",
       "      <td>0.0</td>\n",
       "      <td>...</td>\n",
       "      <td>0.0</td>\n",
       "      <td>0.0</td>\n",
       "      <td>1.0</td>\n",
       "      <td>0.0</td>\n",
       "      <td>0.0</td>\n",
       "      <td>1.0</td>\n",
       "      <td>0.0</td>\n",
       "      <td>0.0</td>\n",
       "      <td>1.0</td>\n",
       "      <td>0.0</td>\n",
       "    </tr>\n",
       "    <tr>\n",
       "      <th>3</th>\n",
       "      <td>8DShNS-LuFqpEWIp0HxijA</td>\n",
       "      <td>3.0</td>\n",
       "      <td>9</td>\n",
       "      <td>NaN</td>\n",
       "      <td>0.184669</td>\n",
       "      <td>0.458150</td>\n",
       "      <td>0.223785</td>\n",
       "      <td>0.233333</td>\n",
       "      <td>1.0</td>\n",
       "      <td>0.0</td>\n",
       "      <td>...</td>\n",
       "      <td>0.0</td>\n",
       "      <td>0.0</td>\n",
       "      <td>1.0</td>\n",
       "      <td>0.0</td>\n",
       "      <td>0.0</td>\n",
       "      <td>1.0</td>\n",
       "      <td>0.0</td>\n",
       "      <td>0.0</td>\n",
       "      <td>1.0</td>\n",
       "      <td>0.0</td>\n",
       "    </tr>\n",
       "    <tr>\n",
       "      <th>4</th>\n",
       "      <td>PfOCPjBrlQAnz__NXj9h_w</td>\n",
       "      <td>3.5</td>\n",
       "      <td>116</td>\n",
       "      <td>NaN</td>\n",
       "      <td>0.267249</td>\n",
       "      <td>0.596280</td>\n",
       "      <td>0.410907</td>\n",
       "      <td>0.555065</td>\n",
       "      <td>1.0</td>\n",
       "      <td>0.0</td>\n",
       "      <td>...</td>\n",
       "      <td>0.0</td>\n",
       "      <td>0.0</td>\n",
       "      <td>1.0</td>\n",
       "      <td>0.0</td>\n",
       "      <td>0.0</td>\n",
       "      <td>1.0</td>\n",
       "      <td>0.0</td>\n",
       "      <td>0.0</td>\n",
       "      <td>1.0</td>\n",
       "      <td>0.0</td>\n",
       "    </tr>\n",
       "  </tbody>\n",
       "</table>\n",
       "<p>5 rows × 134 columns</p>\n",
       "</div>"
      ],
      "text/plain": [
       "              business_id  stars  review_count label  sentiment_comment  \\\n",
       "0  FYWN1wneV18bWNgQjJ2GNg    4.0            22   NaN           0.276481   \n",
       "1  He-G7vWjzVUysIKrfNbPUQ    3.0            11   NaN           0.277838   \n",
       "2  KQPW8lFf1y5BT2MxiSZ3QA    1.5            18   NaN          -0.044467   \n",
       "3  8DShNS-LuFqpEWIp0HxijA    3.0             9   NaN           0.184669   \n",
       "4  PfOCPjBrlQAnz__NXj9h_w    3.5           116   NaN           0.267249   \n",
       "\n",
       "   subjectivity_comment  sentiment_tip  subjectivity_tip  checkins  \\\n",
       "0              0.562467       0.643083          0.692667       1.0   \n",
       "1              0.608054       0.650000          0.662500       1.0   \n",
       "2              0.507554       0.000000          0.500000       1.0   \n",
       "3              0.458150       0.223785          0.233333       1.0   \n",
       "4              0.596280       0.410907          0.555065       1.0   \n",
       "\n",
       "   ByAppointmentOnly_False  ...  DogsAllowed_True  \\\n",
       "0                      0.0  ...               0.0   \n",
       "1                      0.0  ...               0.0   \n",
       "2                      0.0  ...               0.0   \n",
       "3                      0.0  ...               0.0   \n",
       "4                      0.0  ...               0.0   \n",
       "\n",
       "   BusinessAcceptsBitcoin_False  BusinessAcceptsBitcoin_Na  \\\n",
       "0                           0.0                        1.0   \n",
       "1                           0.0                        1.0   \n",
       "2                           0.0                        1.0   \n",
       "3                           0.0                        1.0   \n",
       "4                           0.0                        1.0   \n",
       "\n",
       "   BusinessAcceptsBitcoin_True  Open24Hours_False  Open24Hours_Na  \\\n",
       "0                          0.0                0.0             1.0   \n",
       "1                          0.0                0.0             1.0   \n",
       "2                          0.0                0.0             1.0   \n",
       "3                          0.0                0.0             1.0   \n",
       "4                          0.0                0.0             1.0   \n",
       "\n",
       "   Open24Hours_True  AgesAllowed_False  AgesAllowed_Na  AgesAllowed_True  \n",
       "0               0.0                0.0             1.0               0.0  \n",
       "1               0.0                0.0             1.0               0.0  \n",
       "2               0.0                0.0             1.0               0.0  \n",
       "3               0.0                0.0             1.0               0.0  \n",
       "4               0.0                0.0             1.0               0.0  \n",
       "\n",
       "[5 rows x 134 columns]"
      ]
     },
     "execution_count": 4,
     "metadata": {},
     "output_type": "execute_result"
    }
   ],
   "source": [
    "df.head()"
   ]
  },
  {
   "cell_type": "code",
   "execution_count": 5,
   "metadata": {
    "colab": {
     "base_uri": "https://localhost:8080/"
    },
    "executionInfo": {
     "elapsed": 483,
     "status": "ok",
     "timestamp": 1711486646898,
     "user": {
      "displayName": "Keane Dylan",
      "userId": "00724804467965899666"
     },
     "user_tz": 240
    },
    "id": "FEgi85GO_UEY",
    "outputId": "6bf22209-23ad-4551-aaba-073f93cd8756"
   },
   "outputs": [
    {
     "data": {
      "text/plain": [
       "business_id               0\n",
       "stars                     0\n",
       "review_count              0\n",
       "label                166675\n",
       "sentiment_comment         0\n",
       "                      ...  \n",
       "Open24Hours_Na            0\n",
       "Open24Hours_True          0\n",
       "AgesAllowed_False         0\n",
       "AgesAllowed_Na            0\n",
       "AgesAllowed_True          0\n",
       "Length: 134, dtype: int64"
      ]
     },
     "execution_count": 5,
     "metadata": {},
     "output_type": "execute_result"
    }
   ],
   "source": [
    "df.isna().sum()"
   ]
  },
  {
   "cell_type": "code",
   "execution_count": 6,
   "metadata": {
    "colab": {
     "base_uri": "https://localhost:8080/"
    },
    "executionInfo": {
     "elapsed": 3,
     "status": "ok",
     "timestamp": 1711486646899,
     "user": {
      "displayName": "Keane Dylan",
      "userId": "00724804467965899666"
     },
     "user_tz": 240
    },
    "id": "MAV06Ao5_UEY",
    "outputId": "d35bb490-1a82-46cd-ed15-d6f6e2410ae9"
   },
   "outputs": [
    {
     "name": "stdout",
     "output_type": "stream",
     "text": [
      "<class 'pandas.core.frame.DataFrame'>\n",
      "Index: 174564 entries, 0 to 174563\n",
      "Columns: 134 entries, business_id to AgesAllowed_True\n",
      "dtypes: float64(131), int64(1), object(2)\n",
      "memory usage: 179.8+ MB\n"
     ]
    }
   ],
   "source": [
    "df.info()"
   ]
  },
  {
   "cell_type": "code",
   "execution_count": 7,
   "metadata": {
    "id": "bnxC_jnZ_UEY"
   },
   "outputs": [],
   "source": [
    "majority_class_percentage_above_99 = []"
   ]
  },
  {
   "cell_type": "code",
   "execution_count": 8,
   "metadata": {
    "colab": {
     "base_uri": "https://localhost:8080/"
    },
    "executionInfo": {
     "elapsed": 1912,
     "status": "ok",
     "timestamp": 1711486649578,
     "user": {
      "displayName": "Keane Dylan",
      "userId": "00724804467965899666"
     },
     "user_tz": 240
    },
    "id": "vvO31d7p_UEY",
    "outputId": "0bbc9a22-2c5d-44d1-a08e-762054ca559f"
   },
   "outputs": [
    {
     "name": "stdout",
     "output_type": "stream",
     "text": [
      "business_id :  5.728558007378383e-06\n",
      "stars :  0.1918551362251094\n",
      "review_count :  0.1856625650191334\n",
      "label :  0.995309925212321\n",
      "sentiment_comment :  0.00152379642996265\n",
      "subjectivity_comment :  0.001002497651291217\n",
      "sentiment_tip :  0.41338420292843886\n",
      "subjectivity_tip :  0.36979560505029674\n",
      "checkins :  0.6409969982356042\n",
      "ByAppointmentOnly_False :  0.9999828143259779\n",
      "ByAppointmentOnly_Na :  0.999455786989299\n",
      "ByAppointmentOnly_True :  0.9994729726633211\n",
      "BusinessAcceptsCreditCards_False :  0.9286794528081391\n",
      "BusinessAcceptsCreditCards_Na :  0.8649148736280103\n",
      "BusinessAcceptsCreditCards_True :  0.9362354208198712\n",
      "BusinessParking_garage_False :  0.9911379207625857\n",
      "BusinessParking_garage_Na :  0.8831832451135401\n",
      "BusinessParking_garage_True :  0.8920453243509544\n",
      "BusinessParking_street_False :  0.7842796911161523\n",
      "BusinessParking_street_Na :  0.7745583281776312\n",
      "BusinessParking_street_True :  0.9902786370614789\n",
      "BusinessParking_validated_False :  0.8175110561169543\n",
      "BusinessParking_validated_Na :  0.7745583281776312\n",
      "BusinessParking_validated_True :  0.9570472720606769\n",
      "BusinessParking_lot_False :  0.781673197222795\n",
      "BusinessParking_lot_Na :  0.7805561284113562\n",
      "BusinessParking_lot_True :  0.9988829311885612\n",
      "BusinessParking_valet_False :  0.8581838179693407\n",
      "BusinessParking_valet_Na :  0.7745583281776312\n",
      "BusinessParking_valet_True :  0.9163745102082904\n",
      "GoodForKids_1 :  0.9932574872253156\n",
      "GoodForKids_2 :  0.9852203203409637\n",
      "GoodForKids_3 :  0.9930913590431016\n",
      "GoodForKids_4 :  0.998046561719484\n",
      "GoodForKids_Na :  0.9696157283288651\n",
      "WheelchairAccessible_False :  0.9820352420888614\n",
      "WheelchairAccessible_Na :  0.8798549529112532\n",
      "WheelchairAccessible_True :  0.8978197108223918\n",
      "BikeParking_False :  0.9699995417153594\n",
      "BikeParking_Na :  0.7749707843541623\n",
      "BikeParking_True :  0.8049712426388029\n",
      "Alcohol_False :  0.984074608739488\n",
      "Alcohol_Na :  0.9403599825851836\n",
      "Alcohol_True :  0.9562853738456956\n",
      "HasTV_Na :  0.983770995165097\n",
      "HasTV_beer_and_wine :  0.9988542883985243\n",
      "HasTV_full_bar :  0.9864691459865722\n",
      "HasTV_none :  0.9984475607800004\n",
      "NoiseLevel_False :  0.999364130061181\n",
      "NoiseLevel_Na :  0.9987569029123989\n",
      "NoiseLevel_True :  0.9993927728512179\n",
      "Music_dj_Na :  0.9995245296853876\n",
      "Music_dj_casual :  0.9995245296853876\n",
      "Music_background_music_False :  0.9999312573039114\n",
      "Music_background_music_Na :  0.9998854288398524\n",
      "Music_background_music_True :  0.999954171535941\n",
      "Music_no_music_False :  0.9999140716298893\n",
      "Music_no_music_Na :  0.9998854288398524\n",
      "Music_no_music_True :  0.9999713572099631\n",
      "Music_karaoke_False :  0.9998854288398524\n",
      "Music_karaoke_Na :  0.9998854288398524\n",
      "Music_live_False :  0.9998911573978598\n",
      "Music_live_Na :  0.9998854288398524\n",
      "Music_live_True :  0.9999942714419926\n",
      "Music_video_False :  0.9999083430718819\n",
      "Music_video_Na :  0.9998854288398524\n",
      "Music_video_True :  0.9999770857679705\n",
      "Music_jukebox_False :  0.9998911573978598\n",
      "Music_jukebox_Na :  0.9998854288398524\n",
      "Music_jukebox_True :  0.9999942714419926\n",
      "Ambience_romantic_False :  0.9999198001878967\n",
      "Ambience_romantic_Na :  0.9998854288398524\n",
      "Ambience_romantic_True :  0.9999656286519557\n",
      "Ambience_intimate_False :  0.9996448294035425\n",
      "Ambience_intimate_Na :  0.9996448294035425\n",
      "Ambience_classy_False :  0.9996448294035425\n",
      "Ambience_classy_Na :  0.9996448294035425\n",
      "Ambience_hipster_False :  0.9996448294035425\n",
      "Ambience_hipster_Na :  0.9996448294035425\n",
      "Ambience_divey_False :  0.9996448294035425\n",
      "Ambience_divey_Na :  0.9996448294035425\n",
      "Ambience_touristy_False :  0.9998109575857566\n",
      "Ambience_touristy_Na :  0.9998109575857566\n",
      "Ambience_trendy_False :  0.9996448294035425\n",
      "Ambience_trendy_Na :  0.9996448294035425\n",
      "Ambience_upscale_False :  0.9996448294035425\n",
      "Ambience_upscale_Na :  0.9996448294035425\n",
      "Ambience_casual_False :  0.9996448294035425\n",
      "Ambience_casual_Na :  0.9996448294035425\n",
      "WiFi_False :  0.999788043353727\n",
      "WiFi_Na :  0.9994443298732842\n",
      "WiFi_True :  0.9996562865195573\n",
      "HappyHour_False :  0.9936298434957952\n",
      "HappyHour_Na :  0.9645860543983868\n",
      "HappyHour_True :  0.9709562109025917\n",
      "BestNights_monday_False :  0.9890298114158704\n",
      "BestNights_monday_Na :  0.9822815700831786\n",
      "BestNights_monday_True :  0.9932517586673083\n",
      "BestNights_tuesday_False :  0.9998166861437638\n",
      "BestNights_tuesday_Na :  0.9998052290277492\n",
      "BestNights_tuesday_True :  0.9999885428839852\n",
      "BestNights_friday_False :  0.9998281432597786\n",
      "BestNights_friday_Na :  0.9998052290277492\n",
      "BestNights_friday_True :  0.9999770857679705\n",
      "BestNights_wednesday_False :  0.9999255287459041\n",
      "BestNights_wednesday_Na :  0.9998052290277492\n",
      "BestNights_wednesday_True :  0.999879700281845\n",
      "BestNights_thursday_False :  0.9998396003757934\n",
      "BestNights_thursday_Na :  0.9998052290277492\n",
      "BestNights_thursday_True :  0.9999656286519557\n",
      "BestNights_sunday_False :  0.9998567860498155\n",
      "BestNights_sunday_Na :  0.9998052290277492\n",
      "BestNights_sunday_True :  0.9999484429779336\n",
      "BestNights_saturday_False :  0.9998224147017712\n",
      "BestNights_saturday_Na :  0.9998052290277492\n",
      "BestNights_saturday_True :  0.9999828143259779\n",
      "CoatCheck_False :  0.9910348067184528\n",
      "CoatCheck_Na :  0.9896083957746156\n",
      "CoatCheck_True :  0.9985735890561628\n",
      "Smoking_False :  0.9984876606860521\n",
      "Smoking_Na :  0.9983329896198528\n",
      "Smoking_True :  0.9998453289338007\n",
      "DogsAllowed_False :  0.9790392062510025\n",
      "DogsAllowed_Na :  0.9656000091656928\n",
      "DogsAllowed_True :  0.9865608029146903\n",
      "BusinessAcceptsBitcoin_False :  0.9989344882106276\n",
      "BusinessAcceptsBitcoin_Na :  0.9976856625650191\n",
      "BusinessAcceptsBitcoin_True :  0.9987511743543915\n",
      "Open24Hours_False :  0.9920945899498178\n",
      "Open24Hours_Na :  0.9917451479113677\n",
      "Open24Hours_True :  0.9996505579615499\n",
      "AgesAllowed_False :  0.9996448294035425\n",
      "AgesAllowed_Na :  0.9993698586191884\n",
      "AgesAllowed_True :  0.9997250292156459\n"
     ]
    }
   ],
   "source": [
    "for col in df.columns:\n",
    "    majority_class_percentage = df[col].value_counts(normalize=True).sort_values(ascending=False).iloc[0]\n",
    "    print(col, \": \", majority_class_percentage)\n",
    "    if majority_class_percentage > 0.99:\n",
    "        majority_class_percentage_above_99.append(col)"
   ]
  },
  {
   "cell_type": "code",
   "execution_count": 9,
   "metadata": {
    "colab": {
     "base_uri": "https://localhost:8080/"
    },
    "executionInfo": {
     "elapsed": 4,
     "status": "ok",
     "timestamp": 1711486649720,
     "user": {
      "displayName": "Keane Dylan",
      "userId": "00724804467965899666"
     },
     "user_tz": 240
    },
    "id": "XlDWtnu0_UEZ",
    "outputId": "295f33a6-31c8-425c-b5bb-8b7d58b514ca"
   },
   "outputs": [
    {
     "data": {
      "text/plain": [
       "90"
      ]
     },
     "execution_count": 9,
     "metadata": {},
     "output_type": "execute_result"
    }
   ],
   "source": [
    "len(majority_class_percentage_above_99)"
   ]
  },
  {
   "cell_type": "code",
   "execution_count": 10,
   "metadata": {
    "colab": {
     "base_uri": "https://localhost:8080/"
    },
    "executionInfo": {
     "elapsed": 2,
     "status": "ok",
     "timestamp": 1711486649720,
     "user": {
      "displayName": "Keane Dylan",
      "userId": "00724804467965899666"
     },
     "user_tz": 240
    },
    "id": "CDV51Rvw_UEZ",
    "outputId": "e6587522-c03b-4e8e-f1fc-3b16c40c38f3"
   },
   "outputs": [
    {
     "data": {
      "text/plain": [
       "134"
      ]
     },
     "execution_count": 10,
     "metadata": {},
     "output_type": "execute_result"
    }
   ],
   "source": [
    "df.shape[1]"
   ]
  },
  {
   "cell_type": "markdown",
   "metadata": {
    "id": "cvh-Z7_I_UEZ"
   },
   "source": [
    "90 columns out of 134 columns have a majority class of bigger than 99%, since the categorical variables are from {categoryName}_{True/Na/False}"
   ]
  },
  {
   "cell_type": "markdown",
   "metadata": {
    "id": "i-lMpdDa_UEa"
   },
   "source": [
    "## Keeping only {categoryName}_True"
   ]
  },
  {
   "cell_type": "markdown",
   "metadata": {
    "id": "jNMlcbj3_UEa"
   },
   "source": [
    "in this analysis we decided to keep data of the {categoryName}_True predictors and assume if the data is \"Na\" then it is false."
   ]
  },
  {
   "cell_type": "code",
   "execution_count": 11,
   "metadata": {
    "id": "kWqqUR_J_UEa"
   },
   "outputs": [],
   "source": [
    "cols = df.columns\n",
    "columns = list(df.columns)\n",
    "filtered_columns = [col for col in columns if col.endswith(\"_True\")]\n",
    "\n",
    "filtered_columns =  [\"business_id\",\n",
    "\"stars\",\n",
    "\"review_count\",\n",
    "\"sentiment_comment\",\n",
    "\"subjectivity_comment\",\n",
    "\"sentiment_tip\",\n",
    "\"subjectivity_tip\",\n",
    "\"checkins\"] + filtered_columns"
   ]
  },
  {
   "cell_type": "code",
   "execution_count": 12,
   "metadata": {
    "id": "3G6epAo5_UEa"
   },
   "outputs": [],
   "source": [
    "df = df[filtered_columns]"
   ]
  },
  {
   "cell_type": "markdown",
   "metadata": {
    "id": "U6RBsTKw_UEa"
   },
   "source": [
    "## Setting Threshold"
   ]
  },
  {
   "cell_type": "code",
   "execution_count": 13,
   "metadata": {
    "colab": {
     "base_uri": "https://localhost:8080/",
     "height": 470
    },
    "executionInfo": {
     "elapsed": 1677,
     "status": "ok",
     "timestamp": 1711486651533,
     "user": {
      "displayName": "Keane Dylan",
      "userId": "00724804467965899666"
     },
     "user_tz": 240
    },
    "id": "KaqZWPG7_UEa",
    "outputId": "d78edc48-f2ed-4457-e7cf-3a7fd3fc195b"
   },
   "outputs": [
    {
     "data": {
      "text/plain": [
       "<Axes: xlabel='stars', ylabel='Count'>"
      ]
     },
     "execution_count": 13,
     "metadata": {},
     "output_type": "execute_result"
    },
    {
     "data": {
      "image/png": "[encoded data removed]",
      "text/plain": [
       "<Figure size 640x480 with 1 Axes>"
      ]
     },
     "metadata": {},
     "output_type": "display_data"
    }
   ],
   "source": [
    "sns.histplot(df[\"stars\"])"
   ]
  },
  {
   "cell_type": "code",
   "execution_count": 14,
   "metadata": {
    "colab": {
     "base_uri": "https://localhost:8080/"
    },
    "executionInfo": {
     "elapsed": 5,
     "status": "ok",
     "timestamp": 1711486651533,
     "user": {
      "displayName": "Keane Dylan",
      "userId": "00724804467965899666"
     },
     "user_tz": 240
    },
    "id": "P60rUBaZ_UEb",
    "outputId": "cea045e2-ae64-4239-c5af-1768e10b23db"
   },
   "outputs": [
    {
     "data": {
      "text/plain": [
       "stars\n",
       "False    0.508335\n",
       "True     0.491665\n",
       "Name: proportion, dtype: float64"
      ]
     },
     "execution_count": 14,
     "metadata": {},
     "output_type": "execute_result"
    }
   ],
   "source": [
    "(df[\"stars\"] >= 4).value_counts(normalize=True)"
   ]
  },
  {
   "cell_type": "code",
   "execution_count": 15,
   "metadata": {
    "colab": {
     "base_uri": "https://localhost:8080/"
    },
    "executionInfo": {
     "elapsed": 244,
     "status": "ok",
     "timestamp": 1711486651775,
     "user": {
      "displayName": "Keane Dylan",
      "userId": "00724804467965899666"
     },
     "user_tz": 240
    },
    "id": "VQ5QmTZv_UEb",
    "outputId": "4dd62aaa-84aa-4029-968d-504ac65fe3e3"
   },
   "outputs": [
    {
     "data": {
      "text/plain": [
       "stars\n",
       "True     0.675191\n",
       "False    0.324809\n",
       "Name: proportion, dtype: float64"
      ]
     },
     "execution_count": 15,
     "metadata": {},
     "output_type": "execute_result"
    }
   ],
   "source": [
    "(df[\"stars\"] >= 3.5).value_counts(normalize=True)"
   ]
  },
  {
   "cell_type": "markdown",
   "metadata": {
    "id": "HkJPkNUM_UEb"
   },
   "source": [
    "given that our main purpose of the project is to help increase star ratings for business in general a simple inference model is needed for analysis thus we chose LogisticRegression for inference"
   ]
  },
  {
   "cell_type": "markdown",
   "metadata": {
    "id": "2iCg3ElW_UEb"
   },
   "source": [
    "Logistic Regression works best for binary classification tasks. In our previous k-means clustering analysis with k=2, we observed that the cluster centers had star ratings above 4.2. Additionally, there is no class imbalance concern when using a threshold of 4 to classify businesses as \"good.\" Therefore, we have selected 4 as the threshold to define businesses as \"good.\""
   ]
  },
  {
   "cell_type": "code",
   "execution_count": 16,
   "metadata": {
    "id": "PyAXPzRT_UEb"
   },
   "outputs": [],
   "source": [
    "df[\"fstars\"] = (df[\"stars\"] >= 4).astype(int)\n",
    "y = df[\"fstars\"].astype(str)"
   ]
  },
  {
   "cell_type": "markdown",
   "metadata": {
    "id": "PFrtFlsm_UEb"
   },
   "source": [
    "## Initial Modelling"
   ]
  },
  {
   "cell_type": "code",
   "execution_count": 17,
   "metadata": {
    "id": "D61tUVFW_UEb"
   },
   "outputs": [],
   "source": [
    "df = df.drop([\"business_id\",\"stars\"],axis=1)"
   ]
  },
  {
   "cell_type": "code",
   "execution_count": 18,
   "metadata": {
    "id": "SjIwANiF_UEb"
   },
   "outputs": [],
   "source": [
    "X = df.iloc[:,1:-1]"
   ]
  },
  {
   "cell_type": "code",
   "execution_count": 19,
   "metadata": {
    "id": "2GZO5HX9_UEb"
   },
   "outputs": [],
   "source": [
    "y = df['fstars']"
   ]
  },
  {
   "cell_type": "code",
   "execution_count": 20,
   "metadata": {
    "id": "5qlD9gC1_UEb"
   },
   "outputs": [],
   "source": [
    "from sklearn.preprocessing import StandardScaler"
   ]
  },
  {
   "cell_type": "code",
   "execution_count": 21,
   "metadata": {
    "id": "Too01eQr_UEb"
   },
   "outputs": [],
   "source": [
    "# Standardizing variables\n",
    "scaler = StandardScaler()\n",
    "\n",
    "X_std = scaler.fit_transform(X)"
   ]
  },
  {
   "cell_type": "code",
   "execution_count": 22,
   "metadata": {
    "id": "tPx08Moo_UEb"
   },
   "outputs": [],
   "source": [
    "import statsmodels.api as sm"
   ]
  },
  {
   "cell_type": "code",
   "execution_count": 23,
   "metadata": {
    "id": "qtOoyI1U_UEb"
   },
   "outputs": [],
   "source": [
    "X_std = pd.DataFrame(sm.add_constant(X_std), columns = [\"const\"] + list(X.columns))"
   ]
  },
  {
   "cell_type": "code",
   "execution_count": 24,
   "metadata": {
    "colab": {
     "base_uri": "https://localhost:8080/"
    },
    "executionInfo": {
     "elapsed": 216,
     "status": "ok",
     "timestamp": 1711486652386,
     "user": {
      "displayName": "Keane Dylan",
      "userId": "00724804467965899666"
     },
     "user_tz": 240
    },
    "id": "0GrF-cxj_UEb",
    "outputId": "28506156-f1b2-49d9-b53d-8a7ab0f2ad57"
   },
   "outputs": [
    {
     "data": {
      "text/html": [
       "<div>\n",
       "<style scoped>\n",
       "    .dataframe tbody tr th:only-of-type {\n",
       "        vertical-align: middle;\n",
       "    }\n",
       "\n",
       "    .dataframe tbody tr th {\n",
       "        vertical-align: top;\n",
       "    }\n",
       "\n",
       "    .dataframe thead th {\n",
       "        text-align: right;\n",
       "    }\n",
       "</style>\n",
       "<table border=\"1\" class=\"dataframe\">\n",
       "  <thead>\n",
       "    <tr style=\"text-align: right;\">\n",
       "      <th></th>\n",
       "      <th>const</th>\n",
       "      <th>sentiment_comment</th>\n",
       "      <th>subjectivity_comment</th>\n",
       "      <th>sentiment_tip</th>\n",
       "      <th>subjectivity_tip</th>\n",
       "      <th>checkins</th>\n",
       "      <th>ByAppointmentOnly_True</th>\n",
       "      <th>BusinessAcceptsCreditCards_True</th>\n",
       "      <th>BusinessParking_garage_True</th>\n",
       "      <th>BusinessParking_street_True</th>\n",
       "      <th>...</th>\n",
       "      <th>BestNights_wednesday_True</th>\n",
       "      <th>BestNights_thursday_True</th>\n",
       "      <th>BestNights_sunday_True</th>\n",
       "      <th>BestNights_saturday_True</th>\n",
       "      <th>CoatCheck_True</th>\n",
       "      <th>Smoking_True</th>\n",
       "      <th>DogsAllowed_True</th>\n",
       "      <th>BusinessAcceptsBitcoin_True</th>\n",
       "      <th>Open24Hours_True</th>\n",
       "      <th>AgesAllowed_True</th>\n",
       "    </tr>\n",
       "  </thead>\n",
       "  <tbody>\n",
       "    <tr>\n",
       "      <th>0</th>\n",
       "      <td>1.0</td>\n",
       "      <td>0.513991</td>\n",
       "      <td>0.335406</td>\n",
       "      <td>1.822485</td>\n",
       "      <td>1.132076</td>\n",
       "      <td>-0.108050</td>\n",
       "      <td>-0.022963</td>\n",
       "      <td>-0.260974</td>\n",
       "      <td>2.874569</td>\n",
       "      <td>-0.09908</td>\n",
       "      <td>...</td>\n",
       "      <td>-0.010969</td>\n",
       "      <td>-0.005863</td>\n",
       "      <td>-0.007181</td>\n",
       "      <td>-0.004146</td>\n",
       "      <td>-0.037795</td>\n",
       "      <td>-0.012438</td>\n",
       "      <td>-0.116714</td>\n",
       "      <td>-0.035361</td>\n",
       "      <td>-0.018697</td>\n",
       "      <td>-0.016585</td>\n",
       "    </tr>\n",
       "    <tr>\n",
       "      <th>1</th>\n",
       "      <td>1.0</td>\n",
       "      <td>0.524786</td>\n",
       "      <td>0.957023</td>\n",
       "      <td>1.849022</td>\n",
       "      <td>0.967066</td>\n",
       "      <td>-0.108050</td>\n",
       "      <td>-0.022963</td>\n",
       "      <td>-0.260974</td>\n",
       "      <td>-0.347878</td>\n",
       "      <td>-0.09908</td>\n",
       "      <td>...</td>\n",
       "      <td>-0.010969</td>\n",
       "      <td>-0.005863</td>\n",
       "      <td>-0.007181</td>\n",
       "      <td>-0.004146</td>\n",
       "      <td>-0.037795</td>\n",
       "      <td>-0.012438</td>\n",
       "      <td>-0.116714</td>\n",
       "      <td>-0.035361</td>\n",
       "      <td>-0.018697</td>\n",
       "      <td>-0.016585</td>\n",
       "    </tr>\n",
       "    <tr>\n",
       "      <th>2</th>\n",
       "      <td>1.0</td>\n",
       "      <td>-2.039922</td>\n",
       "      <td>-0.413390</td>\n",
       "      <td>-0.644807</td>\n",
       "      <td>0.078199</td>\n",
       "      <td>-0.108050</td>\n",
       "      <td>-0.022963</td>\n",
       "      <td>-0.260974</td>\n",
       "      <td>-0.347878</td>\n",
       "      <td>-0.09908</td>\n",
       "      <td>...</td>\n",
       "      <td>-0.010969</td>\n",
       "      <td>-0.005863</td>\n",
       "      <td>-0.007181</td>\n",
       "      <td>-0.004146</td>\n",
       "      <td>-0.037795</td>\n",
       "      <td>-0.012438</td>\n",
       "      <td>-0.116714</td>\n",
       "      <td>-0.035361</td>\n",
       "      <td>-0.018697</td>\n",
       "      <td>-0.016585</td>\n",
       "    </tr>\n",
       "    <tr>\n",
       "      <th>3</th>\n",
       "      <td>1.0</td>\n",
       "      <td>-0.216592</td>\n",
       "      <td>-1.087068</td>\n",
       "      <td>0.213779</td>\n",
       "      <td>-1.380454</td>\n",
       "      <td>-0.108050</td>\n",
       "      <td>-0.022963</td>\n",
       "      <td>-0.260974</td>\n",
       "      <td>-0.347878</td>\n",
       "      <td>-0.09908</td>\n",
       "      <td>...</td>\n",
       "      <td>-0.010969</td>\n",
       "      <td>-0.005863</td>\n",
       "      <td>-0.007181</td>\n",
       "      <td>-0.004146</td>\n",
       "      <td>-0.037795</td>\n",
       "      <td>-0.012438</td>\n",
       "      <td>-0.116714</td>\n",
       "      <td>-0.035361</td>\n",
       "      <td>-0.018697</td>\n",
       "      <td>-0.016585</td>\n",
       "    </tr>\n",
       "    <tr>\n",
       "      <th>4</th>\n",
       "      <td>1.0</td>\n",
       "      <td>0.440525</td>\n",
       "      <td>0.796478</td>\n",
       "      <td>0.931703</td>\n",
       "      <td>0.379404</td>\n",
       "      <td>-0.108050</td>\n",
       "      <td>-0.022963</td>\n",
       "      <td>-0.260974</td>\n",
       "      <td>-0.347878</td>\n",
       "      <td>-0.09908</td>\n",
       "      <td>...</td>\n",
       "      <td>-0.010969</td>\n",
       "      <td>-0.005863</td>\n",
       "      <td>-0.007181</td>\n",
       "      <td>-0.004146</td>\n",
       "      <td>-0.037795</td>\n",
       "      <td>-0.012438</td>\n",
       "      <td>-0.116714</td>\n",
       "      <td>-0.035361</td>\n",
       "      <td>-0.018697</td>\n",
       "      <td>-0.016585</td>\n",
       "    </tr>\n",
       "    <tr>\n",
       "      <th>...</th>\n",
       "      <td>...</td>\n",
       "      <td>...</td>\n",
       "      <td>...</td>\n",
       "      <td>...</td>\n",
       "      <td>...</td>\n",
       "      <td>...</td>\n",
       "      <td>...</td>\n",
       "      <td>...</td>\n",
       "      <td>...</td>\n",
       "      <td>...</td>\n",
       "      <td>...</td>\n",
       "      <td>...</td>\n",
       "      <td>...</td>\n",
       "      <td>...</td>\n",
       "      <td>...</td>\n",
       "      <td>...</td>\n",
       "      <td>...</td>\n",
       "      <td>...</td>\n",
       "      <td>...</td>\n",
       "      <td>...</td>\n",
       "      <td>...</td>\n",
       "    </tr>\n",
       "    <tr>\n",
       "      <th>174559</th>\n",
       "      <td>1.0</td>\n",
       "      <td>-0.287330</td>\n",
       "      <td>-1.247613</td>\n",
       "      <td>-0.078900</td>\n",
       "      <td>-0.195298</td>\n",
       "      <td>-0.108050</td>\n",
       "      <td>-0.022963</td>\n",
       "      <td>-0.260974</td>\n",
       "      <td>-0.347878</td>\n",
       "      <td>-0.09908</td>\n",
       "      <td>...</td>\n",
       "      <td>-0.010969</td>\n",
       "      <td>-0.005863</td>\n",
       "      <td>-0.007181</td>\n",
       "      <td>-0.004146</td>\n",
       "      <td>-0.037795</td>\n",
       "      <td>-0.012438</td>\n",
       "      <td>-0.116714</td>\n",
       "      <td>-0.035361</td>\n",
       "      <td>-0.018697</td>\n",
       "      <td>-0.016585</td>\n",
       "    </tr>\n",
       "    <tr>\n",
       "      <th>174560</th>\n",
       "      <td>1.0</td>\n",
       "      <td>1.083332</td>\n",
       "      <td>-0.683373</td>\n",
       "      <td>-0.644807</td>\n",
       "      <td>0.078199</td>\n",
       "      <td>-0.337489</td>\n",
       "      <td>-0.022963</td>\n",
       "      <td>-0.260974</td>\n",
       "      <td>2.874569</td>\n",
       "      <td>-0.09908</td>\n",
       "      <td>...</td>\n",
       "      <td>-0.010969</td>\n",
       "      <td>-0.005863</td>\n",
       "      <td>-0.007181</td>\n",
       "      <td>-0.004146</td>\n",
       "      <td>-0.037795</td>\n",
       "      <td>-0.012438</td>\n",
       "      <td>-0.116714</td>\n",
       "      <td>-0.035361</td>\n",
       "      <td>-0.018697</td>\n",
       "      <td>-0.016585</td>\n",
       "    </tr>\n",
       "    <tr>\n",
       "      <th>174561</th>\n",
       "      <td>1.0</td>\n",
       "      <td>-2.087959</td>\n",
       "      <td>-0.278418</td>\n",
       "      <td>-0.644807</td>\n",
       "      <td>0.078199</td>\n",
       "      <td>-0.108050</td>\n",
       "      <td>-0.022963</td>\n",
       "      <td>3.831800</td>\n",
       "      <td>-0.347878</td>\n",
       "      <td>-0.09908</td>\n",
       "      <td>...</td>\n",
       "      <td>-0.010969</td>\n",
       "      <td>-0.005863</td>\n",
       "      <td>-0.007181</td>\n",
       "      <td>-0.004146</td>\n",
       "      <td>-0.037795</td>\n",
       "      <td>-0.012438</td>\n",
       "      <td>-0.116714</td>\n",
       "      <td>-0.035361</td>\n",
       "      <td>-0.018697</td>\n",
       "      <td>-0.016585</td>\n",
       "    </tr>\n",
       "    <tr>\n",
       "      <th>174562</th>\n",
       "      <td>1.0</td>\n",
       "      <td>1.185334</td>\n",
       "      <td>0.489691</td>\n",
       "      <td>2.616354</td>\n",
       "      <td>2.175013</td>\n",
       "      <td>-0.108050</td>\n",
       "      <td>-0.022963</td>\n",
       "      <td>-0.260974</td>\n",
       "      <td>-0.347878</td>\n",
       "      <td>-0.09908</td>\n",
       "      <td>...</td>\n",
       "      <td>-0.010969</td>\n",
       "      <td>-0.005863</td>\n",
       "      <td>-0.007181</td>\n",
       "      <td>-0.004146</td>\n",
       "      <td>-0.037795</td>\n",
       "      <td>-0.012438</td>\n",
       "      <td>-0.116714</td>\n",
       "      <td>-0.035361</td>\n",
       "      <td>-0.018697</td>\n",
       "      <td>-0.016585</td>\n",
       "    </tr>\n",
       "    <tr>\n",
       "      <th>174563</th>\n",
       "      <td>1.0</td>\n",
       "      <td>0.237986</td>\n",
       "      <td>-1.227659</td>\n",
       "      <td>0.889857</td>\n",
       "      <td>-0.605544</td>\n",
       "      <td>-0.108050</td>\n",
       "      <td>-0.022963</td>\n",
       "      <td>-0.260974</td>\n",
       "      <td>2.874569</td>\n",
       "      <td>-0.09908</td>\n",
       "      <td>...</td>\n",
       "      <td>-0.010969</td>\n",
       "      <td>-0.005863</td>\n",
       "      <td>-0.007181</td>\n",
       "      <td>-0.004146</td>\n",
       "      <td>-0.037795</td>\n",
       "      <td>-0.012438</td>\n",
       "      <td>-0.116714</td>\n",
       "      <td>-0.035361</td>\n",
       "      <td>-0.018697</td>\n",
       "      <td>-0.016585</td>\n",
       "    </tr>\n",
       "  </tbody>\n",
       "</table>\n",
       "<p>174564 rows × 38 columns</p>\n",
       "</div>"
      ],
      "text/plain": [
       "        const  sentiment_comment  subjectivity_comment  sentiment_tip  \\\n",
       "0         1.0           0.513991              0.335406       1.822485   \n",
       "1         1.0           0.524786              0.957023       1.849022   \n",
       "2         1.0          -2.039922             -0.413390      -0.644807   \n",
       "3         1.0          -0.216592             -1.087068       0.213779   \n",
       "4         1.0           0.440525              0.796478       0.931703   \n",
       "...       ...                ...                   ...            ...   \n",
       "174559    1.0          -0.287330             -1.247613      -0.078900   \n",
       "174560    1.0           1.083332             -0.683373      -0.644807   \n",
       "174561    1.0          -2.087959             -0.278418      -0.644807   \n",
       "174562    1.0           1.185334              0.489691       2.616354   \n",
       "174563    1.0           0.237986             -1.227659       0.889857   \n",
       "\n",
       "        subjectivity_tip  checkins  ByAppointmentOnly_True  \\\n",
       "0               1.132076 -0.108050               -0.022963   \n",
       "1               0.967066 -0.108050               -0.022963   \n",
       "2               0.078199 -0.108050               -0.022963   \n",
       "3              -1.380454 -0.108050               -0.022963   \n",
       "4               0.379404 -0.108050               -0.022963   \n",
       "...                  ...       ...                     ...   \n",
       "174559         -0.195298 -0.108050               -0.022963   \n",
       "174560          0.078199 -0.337489               -0.022963   \n",
       "174561          0.078199 -0.108050               -0.022963   \n",
       "174562          2.175013 -0.108050               -0.022963   \n",
       "174563         -0.605544 -0.108050               -0.022963   \n",
       "\n",
       "        BusinessAcceptsCreditCards_True  BusinessParking_garage_True  \\\n",
       "0                             -0.260974                     2.874569   \n",
       "1                             -0.260974                    -0.347878   \n",
       "2                             -0.260974                    -0.347878   \n",
       "3                             -0.260974                    -0.347878   \n",
       "4                             -0.260974                    -0.347878   \n",
       "...                                 ...                          ...   \n",
       "174559                        -0.260974                    -0.347878   \n",
       "174560                        -0.260974                     2.874569   \n",
       "174561                         3.831800                    -0.347878   \n",
       "174562                        -0.260974                    -0.347878   \n",
       "174563                        -0.260974                     2.874569   \n",
       "\n",
       "        BusinessParking_street_True  ...  BestNights_wednesday_True  \\\n",
       "0                          -0.09908  ...                  -0.010969   \n",
       "1                          -0.09908  ...                  -0.010969   \n",
       "2                          -0.09908  ...                  -0.010969   \n",
       "3                          -0.09908  ...                  -0.010969   \n",
       "4                          -0.09908  ...                  -0.010969   \n",
       "...                             ...  ...                        ...   \n",
       "174559                     -0.09908  ...                  -0.010969   \n",
       "174560                     -0.09908  ...                  -0.010969   \n",
       "174561                     -0.09908  ...                  -0.010969   \n",
       "174562                     -0.09908  ...                  -0.010969   \n",
       "174563                     -0.09908  ...                  -0.010969   \n",
       "\n",
       "        BestNights_thursday_True  BestNights_sunday_True  \\\n",
       "0                      -0.005863               -0.007181   \n",
       "1                      -0.005863               -0.007181   \n",
       "2                      -0.005863               -0.007181   \n",
       "3                      -0.005863               -0.007181   \n",
       "4                      -0.005863               -0.007181   \n",
       "...                          ...                     ...   \n",
       "174559                 -0.005863               -0.007181   \n",
       "174560                 -0.005863               -0.007181   \n",
       "174561                 -0.005863               -0.007181   \n",
       "174562                 -0.005863               -0.007181   \n",
       "174563                 -0.005863               -0.007181   \n",
       "\n",
       "        BestNights_saturday_True  CoatCheck_True  Smoking_True  \\\n",
       "0                      -0.004146       -0.037795     -0.012438   \n",
       "1                      -0.004146       -0.037795     -0.012438   \n",
       "2                      -0.004146       -0.037795     -0.012438   \n",
       "3                      -0.004146       -0.037795     -0.012438   \n",
       "4                      -0.004146       -0.037795     -0.012438   \n",
       "...                          ...             ...           ...   \n",
       "174559                 -0.004146       -0.037795     -0.012438   \n",
       "174560                 -0.004146       -0.037795     -0.012438   \n",
       "174561                 -0.004146       -0.037795     -0.012438   \n",
       "174562                 -0.004146       -0.037795     -0.012438   \n",
       "174563                 -0.004146       -0.037795     -0.012438   \n",
       "\n",
       "        DogsAllowed_True  BusinessAcceptsBitcoin_True  Open24Hours_True  \\\n",
       "0              -0.116714                    -0.035361         -0.018697   \n",
       "1              -0.116714                    -0.035361         -0.018697   \n",
       "2              -0.116714                    -0.035361         -0.018697   \n",
       "3              -0.116714                    -0.035361         -0.018697   \n",
       "4              -0.116714                    -0.035361         -0.018697   \n",
       "...                  ...                          ...               ...   \n",
       "174559         -0.116714                    -0.035361         -0.018697   \n",
       "174560         -0.116714                    -0.035361         -0.018697   \n",
       "174561         -0.116714                    -0.035361         -0.018697   \n",
       "174562         -0.116714                    -0.035361         -0.018697   \n",
       "174563         -0.116714                    -0.035361         -0.018697   \n",
       "\n",
       "        AgesAllowed_True  \n",
       "0              -0.016585  \n",
       "1              -0.016585  \n",
       "2              -0.016585  \n",
       "3              -0.016585  \n",
       "4              -0.016585  \n",
       "...                  ...  \n",
       "174559         -0.016585  \n",
       "174560         -0.016585  \n",
       "174561         -0.016585  \n",
       "174562         -0.016585  \n",
       "174563         -0.016585  \n",
       "\n",
       "[174564 rows x 38 columns]"
      ]
     },
     "execution_count": 24,
     "metadata": {},
     "output_type": "execute_result"
    }
   ],
   "source": [
    "X_std"
   ]
  },
  {
   "cell_type": "code",
   "execution_count": 25,
   "metadata": {
    "id": "fz1tHgx7_UEb"
   },
   "outputs": [],
   "source": [
    "logit_model = sm.Logit(y,X_std)"
   ]
  },
  {
   "cell_type": "code",
   "execution_count": 26,
   "metadata": {
    "colab": {
     "base_uri": "https://localhost:8080/"
    },
    "executionInfo": {
     "elapsed": 9101,
     "status": "ok",
     "timestamp": 1711486662205,
     "user": {
      "displayName": "Keane Dylan",
      "userId": "00724804467965899666"
     },
     "user_tz": 240
    },
    "id": "YCfYKtc6_UEc",
    "outputId": "51eb06fc-32cf-4291-9d91-fa8bbbfdf943"
   },
   "outputs": [
    {
     "name": "stdout",
     "output_type": "stream",
     "text": [
      "Warning: Maximum number of iterations has been exceeded.\n",
      "         Current function value: 0.427552\n",
      "         Iterations: 35\n"
     ]
    },
    {
     "name": "stderr",
     "output_type": "stream",
     "text": [
      "C:\\Users\\kbzh\\anaconda3\\Lib\\site-packages\\statsmodels\\base\\model.py:607: ConvergenceWarning: Maximum Likelihood optimization failed to converge. Check mle_retvals\n",
      "  warnings.warn(\"Maximum Likelihood optimization failed to \"\n"
     ]
    },
    {
     "name": "stdout",
     "output_type": "stream",
     "text": [
      "                           Logit Regression Results                           \n",
      "==============================================================================\n",
      "Dep. Variable:                 fstars   No. Observations:               174564\n",
      "Model:                          Logit   Df Residuals:                   174526\n",
      "Method:                           MLE   Df Model:                           37\n",
      "Date:                Wed, 27 Mar 2024   Pseudo R-squ.:                  0.3830\n",
      "Time:                        05:06:55   Log-Likelihood:                -74635.\n",
      "converged:                      False   LL-Null:                   -1.2097e+05\n",
      "Covariance Type:            nonrobust   LLR p-value:                     0.000\n",
      "===================================================================================================\n",
      "                                      coef    std err          z      P>|z|      [0.025      0.975]\n",
      "---------------------------------------------------------------------------------------------------\n",
      "const                              -0.2041     22.676     -0.009      0.993     -44.648      44.240\n",
      "sentiment_comment                   2.5565      0.013    195.002      0.000       2.531       2.582\n",
      "subjectivity_comment               -0.3987      0.008    -51.897      0.000      -0.414      -0.384\n",
      "sentiment_tip                       0.0432      0.007      5.849      0.000       0.029       0.058\n",
      "subjectivity_tip                    0.0186      0.007      2.663      0.008       0.005       0.032\n",
      "checkins                           -0.0222      0.007     -2.964      0.003      -0.037      -0.008\n",
      "ByAppointmentOnly_True             -0.0037      0.007     -0.526      0.599      -0.018       0.010\n",
      "BusinessAcceptsCreditCards_True     0.1544      0.007     21.763      0.000       0.140       0.168\n",
      "BusinessParking_garage_True         0.1275      0.007     18.156      0.000       0.114       0.141\n",
      "BusinessParking_street_True        -0.0517      0.006     -8.704      0.000      -0.063      -0.040\n",
      "BusinessParking_validated_True     -0.0102      0.006     -1.737      0.082      -0.022       0.001\n",
      "BusinessParking_lot_True            0.0032      0.006      0.555      0.579      -0.008       0.015\n",
      "BusinessParking_valet_True         -0.1087      0.006    -17.123      0.000      -0.121      -0.096\n",
      "WheelchairAccessible_True          -0.0056      0.007     -0.835      0.404      -0.019       0.008\n",
      "BikeParking_True                    0.0394      0.007      5.649      0.000       0.026       0.053\n",
      "Alcohol_True                        0.0321      0.007      4.926      0.000       0.019       0.045\n",
      "NoiseLevel_True                    -0.0168      0.007     -2.391      0.017      -0.031      -0.003\n",
      "Music_background_music_True        -0.1697    972.462     -0.000      1.000   -1906.159    1905.820\n",
      "Music_no_music_True                -0.0083      0.008     -1.015      0.310      -0.024       0.008\n",
      "Music_live_True                     0.1032    344.159      0.000      1.000    -674.435     674.642\n",
      "Music_video_True                   -0.0033      0.007     -0.495      0.621      -0.017       0.010\n",
      "Music_jukebox_True                 -0.0119   6175.654  -1.93e-06      1.000   -1.21e+04    1.21e+04\n",
      "Ambience_romantic_True             -0.0042      0.008     -0.501      0.616      -0.021       0.012\n",
      "WiFi_True                           0.0045      0.007      0.632      0.527      -0.009       0.018\n",
      "HappyHour_True                      0.0006      0.006      0.097      0.923      -0.012       0.013\n",
      "BestNights_monday_True              0.0083      0.007      1.253      0.210      -0.005       0.021\n",
      "BestNights_tuesday_True            -0.0055      0.006     -0.885      0.376      -0.018       0.007\n",
      "BestNights_friday_True              0.0005      0.007      0.079      0.937      -0.013       0.014\n",
      "BestNights_wednesday_True          -0.0089      0.008     -1.073      0.283      -0.025       0.007\n",
      "BestNights_thursday_True            0.0082      0.008      1.006      0.314      -0.008       0.024\n",
      "BestNights_sunday_True              0.0072      0.008      0.850      0.395      -0.009       0.024\n",
      "BestNights_saturday_True           -0.1137   3978.324  -2.86e-05      1.000   -7797.486    7797.258\n",
      "CoatCheck_True                      0.0217      0.006      3.463      0.001       0.009       0.034\n",
      "Smoking_True                       -0.0094      0.006     -1.640      0.101      -0.021       0.002\n",
      "DogsAllowed_True                   -0.0549      0.010     -5.630      0.000      -0.074      -0.036\n",
      "BusinessAcceptsBitcoin_True        -0.0100      0.006     -1.648      0.099      -0.022       0.002\n",
      "Open24Hours_True                    0.0357      0.010      3.690      0.000       0.017       0.055\n",
      "AgesAllowed_True                    0.0019      0.005      0.359      0.720      -0.009       0.012\n",
      "===================================================================================================\n"
     ]
    }
   ],
   "source": [
    "result = logit_model.fit()\n",
    "print(result.summary())"
   ]
  },
  {
   "cell_type": "markdown",
   "metadata": {
    "id": "j8VZFjSg_UEc"
   },
   "source": [
    "the logistic regression model fail to converge even with many iterations this may be due to many unary variables"
   ]
  },
  {
   "cell_type": "code",
   "execution_count": 27,
   "metadata": {
    "id": "fdVwfWPh_UEc"
   },
   "outputs": [],
   "source": [
    "X_std = pd.DataFrame(X_std, columns=[\"const\"]+ list(X.columns))"
   ]
  },
  {
   "cell_type": "code",
   "execution_count": 28,
   "metadata": {
    "colab": {
     "base_uri": "https://localhost:8080/"
    },
    "executionInfo": {
     "elapsed": 245,
     "status": "ok",
     "timestamp": 1711486662449,
     "user": {
      "displayName": "Keane Dylan",
      "userId": "00724804467965899666"
     },
     "user_tz": 240
    },
    "id": "iiPgGqd0_UEc",
    "outputId": "b0e2ab42-bcc8-4e26-9846-27a5ab5da1df"
   },
   "outputs": [
    {
     "data": {
      "text/html": [
       "<div>\n",
       "<style scoped>\n",
       "    .dataframe tbody tr th:only-of-type {\n",
       "        vertical-align: middle;\n",
       "    }\n",
       "\n",
       "    .dataframe tbody tr th {\n",
       "        vertical-align: top;\n",
       "    }\n",
       "\n",
       "    .dataframe thead th {\n",
       "        text-align: right;\n",
       "    }\n",
       "</style>\n",
       "<table border=\"1\" class=\"dataframe\">\n",
       "  <thead>\n",
       "    <tr style=\"text-align: right;\">\n",
       "      <th></th>\n",
       "      <th>const</th>\n",
       "      <th>sentiment_comment</th>\n",
       "      <th>subjectivity_comment</th>\n",
       "      <th>sentiment_tip</th>\n",
       "      <th>subjectivity_tip</th>\n",
       "      <th>checkins</th>\n",
       "      <th>ByAppointmentOnly_True</th>\n",
       "      <th>BusinessAcceptsCreditCards_True</th>\n",
       "      <th>BusinessParking_garage_True</th>\n",
       "      <th>BusinessParking_street_True</th>\n",
       "      <th>...</th>\n",
       "      <th>BestNights_wednesday_True</th>\n",
       "      <th>BestNights_thursday_True</th>\n",
       "      <th>BestNights_sunday_True</th>\n",
       "      <th>BestNights_saturday_True</th>\n",
       "      <th>CoatCheck_True</th>\n",
       "      <th>Smoking_True</th>\n",
       "      <th>DogsAllowed_True</th>\n",
       "      <th>BusinessAcceptsBitcoin_True</th>\n",
       "      <th>Open24Hours_True</th>\n",
       "      <th>AgesAllowed_True</th>\n",
       "    </tr>\n",
       "  </thead>\n",
       "  <tbody>\n",
       "    <tr>\n",
       "      <th>0</th>\n",
       "      <td>1.0</td>\n",
       "      <td>0.513991</td>\n",
       "      <td>0.335406</td>\n",
       "      <td>1.822485</td>\n",
       "      <td>1.132076</td>\n",
       "      <td>-0.108050</td>\n",
       "      <td>-0.022963</td>\n",
       "      <td>-0.260974</td>\n",
       "      <td>2.874569</td>\n",
       "      <td>-0.09908</td>\n",
       "      <td>...</td>\n",
       "      <td>-0.010969</td>\n",
       "      <td>-0.005863</td>\n",
       "      <td>-0.007181</td>\n",
       "      <td>-0.004146</td>\n",
       "      <td>-0.037795</td>\n",
       "      <td>-0.012438</td>\n",
       "      <td>-0.116714</td>\n",
       "      <td>-0.035361</td>\n",
       "      <td>-0.018697</td>\n",
       "      <td>-0.016585</td>\n",
       "    </tr>\n",
       "    <tr>\n",
       "      <th>1</th>\n",
       "      <td>1.0</td>\n",
       "      <td>0.524786</td>\n",
       "      <td>0.957023</td>\n",
       "      <td>1.849022</td>\n",
       "      <td>0.967066</td>\n",
       "      <td>-0.108050</td>\n",
       "      <td>-0.022963</td>\n",
       "      <td>-0.260974</td>\n",
       "      <td>-0.347878</td>\n",
       "      <td>-0.09908</td>\n",
       "      <td>...</td>\n",
       "      <td>-0.010969</td>\n",
       "      <td>-0.005863</td>\n",
       "      <td>-0.007181</td>\n",
       "      <td>-0.004146</td>\n",
       "      <td>-0.037795</td>\n",
       "      <td>-0.012438</td>\n",
       "      <td>-0.116714</td>\n",
       "      <td>-0.035361</td>\n",
       "      <td>-0.018697</td>\n",
       "      <td>-0.016585</td>\n",
       "    </tr>\n",
       "    <tr>\n",
       "      <th>2</th>\n",
       "      <td>1.0</td>\n",
       "      <td>-2.039922</td>\n",
       "      <td>-0.413390</td>\n",
       "      <td>-0.644807</td>\n",
       "      <td>0.078199</td>\n",
       "      <td>-0.108050</td>\n",
       "      <td>-0.022963</td>\n",
       "      <td>-0.260974</td>\n",
       "      <td>-0.347878</td>\n",
       "      <td>-0.09908</td>\n",
       "      <td>...</td>\n",
       "      <td>-0.010969</td>\n",
       "      <td>-0.005863</td>\n",
       "      <td>-0.007181</td>\n",
       "      <td>-0.004146</td>\n",
       "      <td>-0.037795</td>\n",
       "      <td>-0.012438</td>\n",
       "      <td>-0.116714</td>\n",
       "      <td>-0.035361</td>\n",
       "      <td>-0.018697</td>\n",
       "      <td>-0.016585</td>\n",
       "    </tr>\n",
       "    <tr>\n",
       "      <th>3</th>\n",
       "      <td>1.0</td>\n",
       "      <td>-0.216592</td>\n",
       "      <td>-1.087068</td>\n",
       "      <td>0.213779</td>\n",
       "      <td>-1.380454</td>\n",
       "      <td>-0.108050</td>\n",
       "      <td>-0.022963</td>\n",
       "      <td>-0.260974</td>\n",
       "      <td>-0.347878</td>\n",
       "      <td>-0.09908</td>\n",
       "      <td>...</td>\n",
       "      <td>-0.010969</td>\n",
       "      <td>-0.005863</td>\n",
       "      <td>-0.007181</td>\n",
       "      <td>-0.004146</td>\n",
       "      <td>-0.037795</td>\n",
       "      <td>-0.012438</td>\n",
       "      <td>-0.116714</td>\n",
       "      <td>-0.035361</td>\n",
       "      <td>-0.018697</td>\n",
       "      <td>-0.016585</td>\n",
       "    </tr>\n",
       "    <tr>\n",
       "      <th>4</th>\n",
       "      <td>1.0</td>\n",
       "      <td>0.440525</td>\n",
       "      <td>0.796478</td>\n",
       "      <td>0.931703</td>\n",
       "      <td>0.379404</td>\n",
       "      <td>-0.108050</td>\n",
       "      <td>-0.022963</td>\n",
       "      <td>-0.260974</td>\n",
       "      <td>-0.347878</td>\n",
       "      <td>-0.09908</td>\n",
       "      <td>...</td>\n",
       "      <td>-0.010969</td>\n",
       "      <td>-0.005863</td>\n",
       "      <td>-0.007181</td>\n",
       "      <td>-0.004146</td>\n",
       "      <td>-0.037795</td>\n",
       "      <td>-0.012438</td>\n",
       "      <td>-0.116714</td>\n",
       "      <td>-0.035361</td>\n",
       "      <td>-0.018697</td>\n",
       "      <td>-0.016585</td>\n",
       "    </tr>\n",
       "    <tr>\n",
       "      <th>...</th>\n",
       "      <td>...</td>\n",
       "      <td>...</td>\n",
       "      <td>...</td>\n",
       "      <td>...</td>\n",
       "      <td>...</td>\n",
       "      <td>...</td>\n",
       "      <td>...</td>\n",
       "      <td>...</td>\n",
       "      <td>...</td>\n",
       "      <td>...</td>\n",
       "      <td>...</td>\n",
       "      <td>...</td>\n",
       "      <td>...</td>\n",
       "      <td>...</td>\n",
       "      <td>...</td>\n",
       "      <td>...</td>\n",
       "      <td>...</td>\n",
       "      <td>...</td>\n",
       "      <td>...</td>\n",
       "      <td>...</td>\n",
       "      <td>...</td>\n",
       "    </tr>\n",
       "    <tr>\n",
       "      <th>174559</th>\n",
       "      <td>1.0</td>\n",
       "      <td>-0.287330</td>\n",
       "      <td>-1.247613</td>\n",
       "      <td>-0.078900</td>\n",
       "      <td>-0.195298</td>\n",
       "      <td>-0.108050</td>\n",
       "      <td>-0.022963</td>\n",
       "      <td>-0.260974</td>\n",
       "      <td>-0.347878</td>\n",
       "      <td>-0.09908</td>\n",
       "      <td>...</td>\n",
       "      <td>-0.010969</td>\n",
       "      <td>-0.005863</td>\n",
       "      <td>-0.007181</td>\n",
       "      <td>-0.004146</td>\n",
       "      <td>-0.037795</td>\n",
       "      <td>-0.012438</td>\n",
       "      <td>-0.116714</td>\n",
       "      <td>-0.035361</td>\n",
       "      <td>-0.018697</td>\n",
       "      <td>-0.016585</td>\n",
       "    </tr>\n",
       "    <tr>\n",
       "      <th>174560</th>\n",
       "      <td>1.0</td>\n",
       "      <td>1.083332</td>\n",
       "      <td>-0.683373</td>\n",
       "      <td>-0.644807</td>\n",
       "      <td>0.078199</td>\n",
       "      <td>-0.337489</td>\n",
       "      <td>-0.022963</td>\n",
       "      <td>-0.260974</td>\n",
       "      <td>2.874569</td>\n",
       "      <td>-0.09908</td>\n",
       "      <td>...</td>\n",
       "      <td>-0.010969</td>\n",
       "      <td>-0.005863</td>\n",
       "      <td>-0.007181</td>\n",
       "      <td>-0.004146</td>\n",
       "      <td>-0.037795</td>\n",
       "      <td>-0.012438</td>\n",
       "      <td>-0.116714</td>\n",
       "      <td>-0.035361</td>\n",
       "      <td>-0.018697</td>\n",
       "      <td>-0.016585</td>\n",
       "    </tr>\n",
       "    <tr>\n",
       "      <th>174561</th>\n",
       "      <td>1.0</td>\n",
       "      <td>-2.087959</td>\n",
       "      <td>-0.278418</td>\n",
       "      <td>-0.644807</td>\n",
       "      <td>0.078199</td>\n",
       "      <td>-0.108050</td>\n",
       "      <td>-0.022963</td>\n",
       "      <td>3.831800</td>\n",
       "      <td>-0.347878</td>\n",
       "      <td>-0.09908</td>\n",
       "      <td>...</td>\n",
       "      <td>-0.010969</td>\n",
       "      <td>-0.005863</td>\n",
       "      <td>-0.007181</td>\n",
       "      <td>-0.004146</td>\n",
       "      <td>-0.037795</td>\n",
       "      <td>-0.012438</td>\n",
       "      <td>-0.116714</td>\n",
       "      <td>-0.035361</td>\n",
       "      <td>-0.018697</td>\n",
       "      <td>-0.016585</td>\n",
       "    </tr>\n",
       "    <tr>\n",
       "      <th>174562</th>\n",
       "      <td>1.0</td>\n",
       "      <td>1.185334</td>\n",
       "      <td>0.489691</td>\n",
       "      <td>2.616354</td>\n",
       "      <td>2.175013</td>\n",
       "      <td>-0.108050</td>\n",
       "      <td>-0.022963</td>\n",
       "      <td>-0.260974</td>\n",
       "      <td>-0.347878</td>\n",
       "      <td>-0.09908</td>\n",
       "      <td>...</td>\n",
       "      <td>-0.010969</td>\n",
       "      <td>-0.005863</td>\n",
       "      <td>-0.007181</td>\n",
       "      <td>-0.004146</td>\n",
       "      <td>-0.037795</td>\n",
       "      <td>-0.012438</td>\n",
       "      <td>-0.116714</td>\n",
       "      <td>-0.035361</td>\n",
       "      <td>-0.018697</td>\n",
       "      <td>-0.016585</td>\n",
       "    </tr>\n",
       "    <tr>\n",
       "      <th>174563</th>\n",
       "      <td>1.0</td>\n",
       "      <td>0.237986</td>\n",
       "      <td>-1.227659</td>\n",
       "      <td>0.889857</td>\n",
       "      <td>-0.605544</td>\n",
       "      <td>-0.108050</td>\n",
       "      <td>-0.022963</td>\n",
       "      <td>-0.260974</td>\n",
       "      <td>2.874569</td>\n",
       "      <td>-0.09908</td>\n",
       "      <td>...</td>\n",
       "      <td>-0.010969</td>\n",
       "      <td>-0.005863</td>\n",
       "      <td>-0.007181</td>\n",
       "      <td>-0.004146</td>\n",
       "      <td>-0.037795</td>\n",
       "      <td>-0.012438</td>\n",
       "      <td>-0.116714</td>\n",
       "      <td>-0.035361</td>\n",
       "      <td>-0.018697</td>\n",
       "      <td>-0.016585</td>\n",
       "    </tr>\n",
       "  </tbody>\n",
       "</table>\n",
       "<p>174564 rows × 38 columns</p>\n",
       "</div>"
      ],
      "text/plain": [
       "        const  sentiment_comment  subjectivity_comment  sentiment_tip  \\\n",
       "0         1.0           0.513991              0.335406       1.822485   \n",
       "1         1.0           0.524786              0.957023       1.849022   \n",
       "2         1.0          -2.039922             -0.413390      -0.644807   \n",
       "3         1.0          -0.216592             -1.087068       0.213779   \n",
       "4         1.0           0.440525              0.796478       0.931703   \n",
       "...       ...                ...                   ...            ...   \n",
       "174559    1.0          -0.287330             -1.247613      -0.078900   \n",
       "174560    1.0           1.083332             -0.683373      -0.644807   \n",
       "174561    1.0          -2.087959             -0.278418      -0.644807   \n",
       "174562    1.0           1.185334              0.489691       2.616354   \n",
       "174563    1.0           0.237986             -1.227659       0.889857   \n",
       "\n",
       "        subjectivity_tip  checkins  ByAppointmentOnly_True  \\\n",
       "0               1.132076 -0.108050               -0.022963   \n",
       "1               0.967066 -0.108050               -0.022963   \n",
       "2               0.078199 -0.108050               -0.022963   \n",
       "3              -1.380454 -0.108050               -0.022963   \n",
       "4               0.379404 -0.108050               -0.022963   \n",
       "...                  ...       ...                     ...   \n",
       "174559         -0.195298 -0.108050               -0.022963   \n",
       "174560          0.078199 -0.337489               -0.022963   \n",
       "174561          0.078199 -0.108050               -0.022963   \n",
       "174562          2.175013 -0.108050               -0.022963   \n",
       "174563         -0.605544 -0.108050               -0.022963   \n",
       "\n",
       "        BusinessAcceptsCreditCards_True  BusinessParking_garage_True  \\\n",
       "0                             -0.260974                     2.874569   \n",
       "1                             -0.260974                    -0.347878   \n",
       "2                             -0.260974                    -0.347878   \n",
       "3                             -0.260974                    -0.347878   \n",
       "4                             -0.260974                    -0.347878   \n",
       "...                                 ...                          ...   \n",
       "174559                        -0.260974                    -0.347878   \n",
       "174560                        -0.260974                     2.874569   \n",
       "174561                         3.831800                    -0.347878   \n",
       "174562                        -0.260974                    -0.347878   \n",
       "174563                        -0.260974                     2.874569   \n",
       "\n",
       "        BusinessParking_street_True  ...  BestNights_wednesday_True  \\\n",
       "0                          -0.09908  ...                  -0.010969   \n",
       "1                          -0.09908  ...                  -0.010969   \n",
       "2                          -0.09908  ...                  -0.010969   \n",
       "3                          -0.09908  ...                  -0.010969   \n",
       "4                          -0.09908  ...                  -0.010969   \n",
       "...                             ...  ...                        ...   \n",
       "174559                     -0.09908  ...                  -0.010969   \n",
       "174560                     -0.09908  ...                  -0.010969   \n",
       "174561                     -0.09908  ...                  -0.010969   \n",
       "174562                     -0.09908  ...                  -0.010969   \n",
       "174563                     -0.09908  ...                  -0.010969   \n",
       "\n",
       "        BestNights_thursday_True  BestNights_sunday_True  \\\n",
       "0                      -0.005863               -0.007181   \n",
       "1                      -0.005863               -0.007181   \n",
       "2                      -0.005863               -0.007181   \n",
       "3                      -0.005863               -0.007181   \n",
       "4                      -0.005863               -0.007181   \n",
       "...                          ...                     ...   \n",
       "174559                 -0.005863               -0.007181   \n",
       "174560                 -0.005863               -0.007181   \n",
       "174561                 -0.005863               -0.007181   \n",
       "174562                 -0.005863               -0.007181   \n",
       "174563                 -0.005863               -0.007181   \n",
       "\n",
       "        BestNights_saturday_True  CoatCheck_True  Smoking_True  \\\n",
       "0                      -0.004146       -0.037795     -0.012438   \n",
       "1                      -0.004146       -0.037795     -0.012438   \n",
       "2                      -0.004146       -0.037795     -0.012438   \n",
       "3                      -0.004146       -0.037795     -0.012438   \n",
       "4                      -0.004146       -0.037795     -0.012438   \n",
       "...                          ...             ...           ...   \n",
       "174559                 -0.004146       -0.037795     -0.012438   \n",
       "174560                 -0.004146       -0.037795     -0.012438   \n",
       "174561                 -0.004146       -0.037795     -0.012438   \n",
       "174562                 -0.004146       -0.037795     -0.012438   \n",
       "174563                 -0.004146       -0.037795     -0.012438   \n",
       "\n",
       "        DogsAllowed_True  BusinessAcceptsBitcoin_True  Open24Hours_True  \\\n",
       "0              -0.116714                    -0.035361         -0.018697   \n",
       "1              -0.116714                    -0.035361         -0.018697   \n",
       "2              -0.116714                    -0.035361         -0.018697   \n",
       "3              -0.116714                    -0.035361         -0.018697   \n",
       "4              -0.116714                    -0.035361         -0.018697   \n",
       "...                  ...                          ...               ...   \n",
       "174559         -0.116714                    -0.035361         -0.018697   \n",
       "174560         -0.116714                    -0.035361         -0.018697   \n",
       "174561         -0.116714                    -0.035361         -0.018697   \n",
       "174562         -0.116714                    -0.035361         -0.018697   \n",
       "174563         -0.116714                    -0.035361         -0.018697   \n",
       "\n",
       "        AgesAllowed_True  \n",
       "0              -0.016585  \n",
       "1              -0.016585  \n",
       "2              -0.016585  \n",
       "3              -0.016585  \n",
       "4              -0.016585  \n",
       "...                  ...  \n",
       "174559         -0.016585  \n",
       "174560         -0.016585  \n",
       "174561         -0.016585  \n",
       "174562         -0.016585  \n",
       "174563         -0.016585  \n",
       "\n",
       "[174564 rows x 38 columns]"
      ]
     },
     "execution_count": 28,
     "metadata": {},
     "output_type": "execute_result"
    }
   ],
   "source": [
    "X_std"
   ]
  },
  {
   "cell_type": "code",
   "execution_count": 29,
   "metadata": {
    "colab": {
     "base_uri": "https://localhost:8080/"
    },
    "executionInfo": {
     "elapsed": 506,
     "status": "ok",
     "timestamp": 1711486662951,
     "user": {
      "displayName": "Keane Dylan",
      "userId": "00724804467965899666"
     },
     "user_tz": 240
    },
    "id": "SbWrBNTa_UEc",
    "outputId": "f342a9c1-7c93-4eaa-f873-b0bddea4ac4e"
   },
   "outputs": [
    {
     "name": "stdout",
     "output_type": "stream",
     "text": [
      "const :  1.0\n",
      "sentiment_comment :  0.0015295249879700283\n",
      "subjectivity_comment :  0.001002497651291217\n",
      "sentiment_tip :  0.4135045026465938\n",
      "subjectivity_tip :  0.36979560505029674\n",
      "checkins :  0.6409969982356042\n",
      "ByAppointmentOnly_True :  0.9994729726633211\n",
      "BusinessAcceptsCreditCards_True :  0.9362354208198712\n",
      "BusinessParking_garage_True :  0.8920453243509544\n",
      "BusinessParking_street_True :  0.9902786370614789\n",
      "BusinessParking_validated_True :  0.9570472720606769\n",
      "BusinessParking_lot_True :  0.9988829311885612\n",
      "BusinessParking_valet_True :  0.9163745102082904\n",
      "WheelchairAccessible_True :  0.8978197108223918\n",
      "BikeParking_True :  0.8049712426388029\n",
      "Alcohol_True :  0.9562853738456956\n",
      "NoiseLevel_True :  0.9993927728512179\n",
      "Music_background_music_True :  0.999954171535941\n",
      "Music_no_music_True :  0.9999713572099631\n",
      "Music_live_True :  0.9999942714419926\n",
      "Music_video_True :  0.9999770857679705\n",
      "Music_jukebox_True :  0.9999942714419926\n",
      "Ambience_romantic_True :  0.9999656286519557\n",
      "WiFi_True :  0.9996562865195573\n",
      "HappyHour_True :  0.9709562109025917\n",
      "BestNights_monday_True :  0.9932517586673083\n",
      "BestNights_tuesday_True :  0.9999885428839852\n",
      "BestNights_friday_True :  0.9999770857679705\n",
      "BestNights_wednesday_True :  0.999879700281845\n",
      "BestNights_thursday_True :  0.9999656286519557\n",
      "BestNights_sunday_True :  0.9999484429779336\n",
      "BestNights_saturday_True :  0.9999828143259779\n",
      "CoatCheck_True :  0.9985735890561628\n",
      "Smoking_True :  0.9998453289338007\n",
      "DogsAllowed_True :  0.9865608029146903\n",
      "BusinessAcceptsBitcoin_True :  0.9987511743543915\n",
      "Open24Hours_True :  0.9996505579615499\n",
      "AgesAllowed_True :  0.9997250292156459\n"
     ]
    }
   ],
   "source": [
    "for col in X_std:\n",
    "    # Display the highest majority class normalized percentage\n",
    "    print(col, \": \", X_std[col].value_counts(normalize=True).sort_values(ascending=False).iloc[0])"
   ]
  },
  {
   "cell_type": "markdown",
   "metadata": {
    "id": "InX18byC_UEc"
   },
   "source": [
    "we can see that there are many variables which are majority with 99% percent of the data point being in one class"
   ]
  },
  {
   "cell_type": "code",
   "execution_count": 30,
   "metadata": {
    "id": "woMYtNLW_UEc"
   },
   "outputs": [],
   "source": [
    "no_unary_variables = []"
   ]
  },
  {
   "cell_type": "markdown",
   "metadata": {
    "id": "YfHXidsa_UEh"
   },
   "source": [
    "setting arbritrary threshold as 0.05 for the minority class"
   ]
  },
  {
   "cell_type": "code",
   "execution_count": 31,
   "metadata": {
    "id": "YkJJVAjW_UEh"
   },
   "outputs": [],
   "source": [
    "for col in X_std:\n",
    "    if len(X_std[col].unique()) == 2:\n",
    "        # Only keep columns which's minority class in a binary predictor is more or equal to 0.05\n",
    "        if X_std[col].value_counts(normalize=True).sort_values().iloc[0] >= 0.05:\n",
    "            no_unary_variables.append(col)\n",
    "    else:\n",
    "        # Keep any non binary predictor\n",
    "        no_unary_variables.append(col)"
   ]
  },
  {
   "cell_type": "code",
   "execution_count": 32,
   "metadata": {
    "id": "Wi3Cu2xZ_UEh"
   },
   "outputs": [],
   "source": [
    "X_std_2 = X_std[no_unary_variables]"
   ]
  },
  {
   "cell_type": "code",
   "execution_count": 33,
   "metadata": {
    "colab": {
     "base_uri": "https://localhost:8080/"
    },
    "executionInfo": {
     "elapsed": 3,
     "status": "ok",
     "timestamp": 1711486663596,
     "user": {
      "displayName": "Keane Dylan",
      "userId": "00724804467965899666"
     },
     "user_tz": 240
    },
    "id": "LPwfkj7B_UEh",
    "outputId": "88409eeb-fcfc-4683-d78f-6584ad1fa205"
   },
   "outputs": [
    {
     "data": {
      "text/html": [
       "<div>\n",
       "<style scoped>\n",
       "    .dataframe tbody tr th:only-of-type {\n",
       "        vertical-align: middle;\n",
       "    }\n",
       "\n",
       "    .dataframe tbody tr th {\n",
       "        vertical-align: top;\n",
       "    }\n",
       "\n",
       "    .dataframe thead th {\n",
       "        text-align: right;\n",
       "    }\n",
       "</style>\n",
       "<table border=\"1\" class=\"dataframe\">\n",
       "  <thead>\n",
       "    <tr style=\"text-align: right;\">\n",
       "      <th></th>\n",
       "      <th>const</th>\n",
       "      <th>sentiment_comment</th>\n",
       "      <th>subjectivity_comment</th>\n",
       "      <th>sentiment_tip</th>\n",
       "      <th>subjectivity_tip</th>\n",
       "      <th>checkins</th>\n",
       "      <th>BusinessAcceptsCreditCards_True</th>\n",
       "      <th>BusinessParking_garage_True</th>\n",
       "      <th>BusinessParking_valet_True</th>\n",
       "      <th>WheelchairAccessible_True</th>\n",
       "      <th>BikeParking_True</th>\n",
       "    </tr>\n",
       "  </thead>\n",
       "  <tbody>\n",
       "    <tr>\n",
       "      <th>0</th>\n",
       "      <td>1.0</td>\n",
       "      <td>0.513991</td>\n",
       "      <td>0.335406</td>\n",
       "      <td>1.822485</td>\n",
       "      <td>1.132076</td>\n",
       "      <td>-0.108050</td>\n",
       "      <td>-0.260974</td>\n",
       "      <td>2.874569</td>\n",
       "      <td>-0.302088</td>\n",
       "      <td>-0.337356</td>\n",
       "      <td>-0.492220</td>\n",
       "    </tr>\n",
       "    <tr>\n",
       "      <th>1</th>\n",
       "      <td>1.0</td>\n",
       "      <td>0.524786</td>\n",
       "      <td>0.957023</td>\n",
       "      <td>1.849022</td>\n",
       "      <td>0.967066</td>\n",
       "      <td>-0.108050</td>\n",
       "      <td>-0.260974</td>\n",
       "      <td>-0.347878</td>\n",
       "      <td>-0.302088</td>\n",
       "      <td>-0.337356</td>\n",
       "      <td>2.031612</td>\n",
       "    </tr>\n",
       "    <tr>\n",
       "      <th>2</th>\n",
       "      <td>1.0</td>\n",
       "      <td>-2.039922</td>\n",
       "      <td>-0.413390</td>\n",
       "      <td>-0.644807</td>\n",
       "      <td>0.078199</td>\n",
       "      <td>-0.108050</td>\n",
       "      <td>-0.260974</td>\n",
       "      <td>-0.347878</td>\n",
       "      <td>-0.302088</td>\n",
       "      <td>-0.337356</td>\n",
       "      <td>-0.492220</td>\n",
       "    </tr>\n",
       "    <tr>\n",
       "      <th>3</th>\n",
       "      <td>1.0</td>\n",
       "      <td>-0.216592</td>\n",
       "      <td>-1.087068</td>\n",
       "      <td>0.213779</td>\n",
       "      <td>-1.380454</td>\n",
       "      <td>-0.108050</td>\n",
       "      <td>-0.260974</td>\n",
       "      <td>-0.347878</td>\n",
       "      <td>-0.302088</td>\n",
       "      <td>-0.337356</td>\n",
       "      <td>-0.492220</td>\n",
       "    </tr>\n",
       "    <tr>\n",
       "      <th>4</th>\n",
       "      <td>1.0</td>\n",
       "      <td>0.440525</td>\n",
       "      <td>0.796478</td>\n",
       "      <td>0.931703</td>\n",
       "      <td>0.379404</td>\n",
       "      <td>-0.108050</td>\n",
       "      <td>-0.260974</td>\n",
       "      <td>-0.347878</td>\n",
       "      <td>-0.302088</td>\n",
       "      <td>-0.337356</td>\n",
       "      <td>-0.492220</td>\n",
       "    </tr>\n",
       "    <tr>\n",
       "      <th>...</th>\n",
       "      <td>...</td>\n",
       "      <td>...</td>\n",
       "      <td>...</td>\n",
       "      <td>...</td>\n",
       "      <td>...</td>\n",
       "      <td>...</td>\n",
       "      <td>...</td>\n",
       "      <td>...</td>\n",
       "      <td>...</td>\n",
       "      <td>...</td>\n",
       "      <td>...</td>\n",
       "    </tr>\n",
       "    <tr>\n",
       "      <th>174559</th>\n",
       "      <td>1.0</td>\n",
       "      <td>-0.287330</td>\n",
       "      <td>-1.247613</td>\n",
       "      <td>-0.078900</td>\n",
       "      <td>-0.195298</td>\n",
       "      <td>-0.108050</td>\n",
       "      <td>-0.260974</td>\n",
       "      <td>-0.347878</td>\n",
       "      <td>-0.302088</td>\n",
       "      <td>-0.337356</td>\n",
       "      <td>-0.492220</td>\n",
       "    </tr>\n",
       "    <tr>\n",
       "      <th>174560</th>\n",
       "      <td>1.0</td>\n",
       "      <td>1.083332</td>\n",
       "      <td>-0.683373</td>\n",
       "      <td>-0.644807</td>\n",
       "      <td>0.078199</td>\n",
       "      <td>-0.337489</td>\n",
       "      <td>-0.260974</td>\n",
       "      <td>2.874569</td>\n",
       "      <td>-0.302088</td>\n",
       "      <td>-0.337356</td>\n",
       "      <td>-0.492220</td>\n",
       "    </tr>\n",
       "    <tr>\n",
       "      <th>174561</th>\n",
       "      <td>1.0</td>\n",
       "      <td>-2.087959</td>\n",
       "      <td>-0.278418</td>\n",
       "      <td>-0.644807</td>\n",
       "      <td>0.078199</td>\n",
       "      <td>-0.108050</td>\n",
       "      <td>3.831800</td>\n",
       "      <td>-0.347878</td>\n",
       "      <td>-0.302088</td>\n",
       "      <td>-0.337356</td>\n",
       "      <td>-0.492220</td>\n",
       "    </tr>\n",
       "    <tr>\n",
       "      <th>174562</th>\n",
       "      <td>1.0</td>\n",
       "      <td>1.185334</td>\n",
       "      <td>0.489691</td>\n",
       "      <td>2.616354</td>\n",
       "      <td>2.175013</td>\n",
       "      <td>-0.108050</td>\n",
       "      <td>-0.260974</td>\n",
       "      <td>-0.347878</td>\n",
       "      <td>-0.302088</td>\n",
       "      <td>-0.337356</td>\n",
       "      <td>-0.492220</td>\n",
       "    </tr>\n",
       "    <tr>\n",
       "      <th>174563</th>\n",
       "      <td>1.0</td>\n",
       "      <td>0.237986</td>\n",
       "      <td>-1.227659</td>\n",
       "      <td>0.889857</td>\n",
       "      <td>-0.605544</td>\n",
       "      <td>-0.108050</td>\n",
       "      <td>-0.260974</td>\n",
       "      <td>2.874569</td>\n",
       "      <td>-0.302088</td>\n",
       "      <td>-0.337356</td>\n",
       "      <td>-0.492220</td>\n",
       "    </tr>\n",
       "  </tbody>\n",
       "</table>\n",
       "<p>174564 rows × 11 columns</p>\n",
       "</div>"
      ],
      "text/plain": [
       "        const  sentiment_comment  subjectivity_comment  sentiment_tip  \\\n",
       "0         1.0           0.513991              0.335406       1.822485   \n",
       "1         1.0           0.524786              0.957023       1.849022   \n",
       "2         1.0          -2.039922             -0.413390      -0.644807   \n",
       "3         1.0          -0.216592             -1.087068       0.213779   \n",
       "4         1.0           0.440525              0.796478       0.931703   \n",
       "...       ...                ...                   ...            ...   \n",
       "174559    1.0          -0.287330             -1.247613      -0.078900   \n",
       "174560    1.0           1.083332             -0.683373      -0.644807   \n",
       "174561    1.0          -2.087959             -0.278418      -0.644807   \n",
       "174562    1.0           1.185334              0.489691       2.616354   \n",
       "174563    1.0           0.237986             -1.227659       0.889857   \n",
       "\n",
       "        subjectivity_tip  checkins  BusinessAcceptsCreditCards_True  \\\n",
       "0               1.132076 -0.108050                        -0.260974   \n",
       "1               0.967066 -0.108050                        -0.260974   \n",
       "2               0.078199 -0.108050                        -0.260974   \n",
       "3              -1.380454 -0.108050                        -0.260974   \n",
       "4               0.379404 -0.108050                        -0.260974   \n",
       "...                  ...       ...                              ...   \n",
       "174559         -0.195298 -0.108050                        -0.260974   \n",
       "174560          0.078199 -0.337489                        -0.260974   \n",
       "174561          0.078199 -0.108050                         3.831800   \n",
       "174562          2.175013 -0.108050                        -0.260974   \n",
       "174563         -0.605544 -0.108050                        -0.260974   \n",
       "\n",
       "        BusinessParking_garage_True  BusinessParking_valet_True  \\\n",
       "0                          2.874569                   -0.302088   \n",
       "1                         -0.347878                   -0.302088   \n",
       "2                         -0.347878                   -0.302088   \n",
       "3                         -0.347878                   -0.302088   \n",
       "4                         -0.347878                   -0.302088   \n",
       "...                             ...                         ...   \n",
       "174559                    -0.347878                   -0.302088   \n",
       "174560                     2.874569                   -0.302088   \n",
       "174561                    -0.347878                   -0.302088   \n",
       "174562                    -0.347878                   -0.302088   \n",
       "174563                     2.874569                   -0.302088   \n",
       "\n",
       "        WheelchairAccessible_True  BikeParking_True  \n",
       "0                       -0.337356         -0.492220  \n",
       "1                       -0.337356          2.031612  \n",
       "2                       -0.337356         -0.492220  \n",
       "3                       -0.337356         -0.492220  \n",
       "4                       -0.337356         -0.492220  \n",
       "...                           ...               ...  \n",
       "174559                  -0.337356         -0.492220  \n",
       "174560                  -0.337356         -0.492220  \n",
       "174561                  -0.337356         -0.492220  \n",
       "174562                  -0.337356         -0.492220  \n",
       "174563                  -0.337356         -0.492220  \n",
       "\n",
       "[174564 rows x 11 columns]"
      ]
     },
     "execution_count": 33,
     "metadata": {},
     "output_type": "execute_result"
    }
   ],
   "source": [
    "X_std_2"
   ]
  },
  {
   "cell_type": "code",
   "execution_count": 34,
   "metadata": {
    "colab": {
     "base_uri": "https://localhost:8080/"
    },
    "executionInfo": {
     "elapsed": 2,
     "status": "ok",
     "timestamp": 1711486663716,
     "user": {
      "displayName": "Keane Dylan",
      "userId": "00724804467965899666"
     },
     "user_tz": 240
    },
    "id": "RzNZTXOg_UEh",
    "outputId": "448f3426-e37a-448d-8600-efafaff36847"
   },
   "outputs": [
    {
     "data": {
      "text/plain": [
       "['const',\n",
       " 'sentiment_comment',\n",
       " 'subjectivity_comment',\n",
       " 'sentiment_tip',\n",
       " 'subjectivity_tip',\n",
       " 'checkins',\n",
       " 'BusinessAcceptsCreditCards_True',\n",
       " 'BusinessParking_garage_True',\n",
       " 'BusinessParking_valet_True',\n",
       " 'WheelchairAccessible_True',\n",
       " 'BikeParking_True']"
      ]
     },
     "execution_count": 34,
     "metadata": {},
     "output_type": "execute_result"
    }
   ],
   "source": [
    "list(X_std_2.columns)"
   ]
  },
  {
   "cell_type": "code",
   "execution_count": 35,
   "metadata": {
    "id": "pGSCZztt_UEh"
   },
   "outputs": [],
   "source": [
    "logit_v2=sm.Logit(y, X_std_2)"
   ]
  },
  {
   "cell_type": "code",
   "execution_count": 36,
   "metadata": {
    "colab": {
     "base_uri": "https://localhost:8080/"
    },
    "executionInfo": {
     "elapsed": 1355,
     "status": "ok",
     "timestamp": 1711486665230,
     "user": {
      "displayName": "Keane Dylan",
      "userId": "00724804467965899666"
     },
     "user_tz": 240
    },
    "id": "F7OCjuD7_UEh",
    "outputId": "44a5a870-345c-4834-b2db-4a2522386983"
   },
   "outputs": [
    {
     "name": "stdout",
     "output_type": "stream",
     "text": [
      "Optimization terminated successfully.\n",
      "         Current function value: 0.428135\n",
      "         Iterations 7\n",
      "                           Logit Regression Results                           \n",
      "==============================================================================\n",
      "Dep. Variable:                 fstars   No. Observations:               174564\n",
      "Model:                          Logit   Df Residuals:                   174553\n",
      "Method:                           MLE   Df Model:                           10\n",
      "Date:                Wed, 27 Mar 2024   Pseudo R-squ.:                  0.3822\n",
      "Time:                        05:06:56   Log-Likelihood:                -74737.\n",
      "converged:                       True   LL-Null:                   -1.2097e+05\n",
      "Covariance Type:            nonrobust   LLR p-value:                     0.000\n",
      "===================================================================================================\n",
      "                                      coef    std err          z      P>|z|      [0.025      0.975]\n",
      "---------------------------------------------------------------------------------------------------\n",
      "const                              -0.2011      0.007    -30.366      0.000      -0.214      -0.188\n",
      "sentiment_comment                   2.5608      0.013    195.790      0.000       2.535       2.586\n",
      "subjectivity_comment               -0.4019      0.008    -52.491      0.000      -0.417      -0.387\n",
      "sentiment_tip                       0.0423      0.007      5.737      0.000       0.028       0.057\n",
      "subjectivity_tip                    0.0187      0.007      2.671      0.008       0.005       0.032\n",
      "checkins                           -0.0257      0.008     -3.393      0.001      -0.041      -0.011\n",
      "BusinessAcceptsCreditCards_True     0.1534      0.007     21.853      0.000       0.140       0.167\n",
      "BusinessParking_garage_True         0.1264      0.007     18.324      0.000       0.113       0.140\n",
      "BusinessParking_valet_True         -0.1090      0.006    -17.426      0.000      -0.121      -0.097\n",
      "WheelchairAccessible_True          -0.0101      0.007     -1.543      0.123      -0.023       0.003\n",
      "BikeParking_True                    0.0313      0.007      4.653      0.000       0.018       0.044\n",
      "===================================================================================================\n"
     ]
    }
   ],
   "source": [
    "result=logit_v2.fit()\n",
    "print(result.summary())"
   ]
  },
  {
   "cell_type": "markdown",
   "metadata": {
    "id": "ELEA3yI-_UEh"
   },
   "source": [
    "removing the \"WheelchairAccessible_True\" since it is statistically unsignificant"
   ]
  },
  {
   "cell_type": "code",
   "execution_count": 37,
   "metadata": {
    "id": "0YXU_gBx_UEh"
   },
   "outputs": [],
   "source": [
    "v3_cols = list(X_std_2.columns)\n",
    "v3_cols.remove(\"WheelchairAccessible_True\")"
   ]
  },
  {
   "cell_type": "code",
   "execution_count": 38,
   "metadata": {
    "id": "aWnzSCvE_UEh"
   },
   "outputs": [],
   "source": [
    "X_std_3 = X_std_2[v3_cols]"
   ]
  },
  {
   "cell_type": "code",
   "execution_count": 39,
   "metadata": {
    "id": "uzm_AX18_UEh"
   },
   "outputs": [],
   "source": [
    "logit_v3=sm.Logit(y, X_std_3)"
   ]
  },
  {
   "cell_type": "code",
   "execution_count": 40,
   "metadata": {
    "colab": {
     "base_uri": "https://localhost:8080/"
    },
    "executionInfo": {
     "elapsed": 1503,
     "status": "ok",
     "timestamp": 1711486667043,
     "user": {
      "displayName": "Keane Dylan",
      "userId": "00724804467965899666"
     },
     "user_tz": 240
    },
    "id": "xsCa63pI_UEh",
    "outputId": "9bb8eaaa-8aa1-4568-ce9a-5a116df4c2c0"
   },
   "outputs": [
    {
     "name": "stdout",
     "output_type": "stream",
     "text": [
      "Optimization terminated successfully.\n",
      "         Current function value: 0.428142\n",
      "         Iterations 7\n",
      "                           Logit Regression Results                           \n",
      "==============================================================================\n",
      "Dep. Variable:                 fstars   No. Observations:               174564\n",
      "Model:                          Logit   Df Residuals:                   174554\n",
      "Method:                           MLE   Df Model:                            9\n",
      "Date:                Wed, 27 Mar 2024   Pseudo R-squ.:                  0.3822\n",
      "Time:                        05:06:57   Log-Likelihood:                -74738.\n",
      "converged:                       True   LL-Null:                   -1.2097e+05\n",
      "Covariance Type:            nonrobust   LLR p-value:                     0.000\n",
      "===================================================================================================\n",
      "                                      coef    std err          z      P>|z|      [0.025      0.975]\n",
      "---------------------------------------------------------------------------------------------------\n",
      "const                              -0.2014      0.007    -30.423      0.000      -0.214      -0.188\n",
      "sentiment_comment                   2.5612      0.013    195.827      0.000       2.536       2.587\n",
      "subjectivity_comment               -0.4024      0.008    -52.605      0.000      -0.417      -0.387\n",
      "sentiment_tip                       0.0415      0.007      5.649      0.000       0.027       0.056\n",
      "subjectivity_tip                    0.0189      0.007      2.709      0.007       0.005       0.033\n",
      "checkins                           -0.0258      0.008     -3.399      0.001      -0.041      -0.011\n",
      "BusinessAcceptsCreditCards_True     0.1546      0.007     22.185      0.000       0.141       0.168\n",
      "BusinessParking_garage_True         0.1280      0.007     18.788      0.000       0.115       0.141\n",
      "BusinessParking_valet_True         -0.1104      0.006    -17.873      0.000      -0.123      -0.098\n",
      "BikeParking_True                    0.0340      0.006      5.240      0.000       0.021       0.047\n",
      "===================================================================================================\n"
     ]
    }
   ],
   "source": [
    "result=logit_v3.fit()\n",
    "print(result.summary())"
   ]
  },
  {
   "cell_type": "markdown",
   "metadata": {
    "id": "-bRM5Z78_UEh"
   },
   "source": [
    "Given that all of the p values of the logistic regression is below 5% then we can assume that these are statistically significant\n",
    "\n",
    "To interpret these coefficients:\n",
    "\n",
    "$logit(p)$ = const + 2.5612 * sentiment_comment - 0.4024 * subjectivity_comment + ...\n",
    "\n",
    "$logit(p)$ = const + 2.5612 * sentiment_comment - 0.4024 * subjectivity_comment + ... given the threshold of 0.5 that we set"
   ]
  },
  {
   "cell_type": "markdown",
   "metadata": {
    "id": "4btkuTCQ_UEi"
   },
   "source": [
    "an example would be a one unit increase in standardized sentiment_comment will result in 2.5612 increase in logit(p)"
   ]
  },
  {
   "cell_type": "markdown",
   "metadata": {
    "id": "9vmbUZ7Q_UEi"
   },
   "source": [
    "logit(p): log-odds = $log(\\frac{P(Y=1)}{P(Y=0)})$"
   ]
  },
  {
   "cell_type": "markdown",
   "metadata": {
    "id": "ok0GITmt_UEi"
   },
   "source": [
    "This means that odds $\\frac{P(Y=1)}{P(Y=0)}$ will incrase by $e^{2.5612} \\approx 12.95$"
   ]
  },
  {
   "cell_type": "code",
   "execution_count": 41,
   "metadata": {
    "colab": {
     "base_uri": "https://localhost:8080/"
    },
    "executionInfo": {
     "elapsed": 3,
     "status": "ok",
     "timestamp": 1711486667043,
     "user": {
      "displayName": "Keane Dylan",
      "userId": "00724804467965899666"
     },
     "user_tz": 240
    },
    "id": "DxWRp6IX_UEi",
    "outputId": "4e5210a6-e31f-41e4-eacd-97c5264c0306"
   },
   "outputs": [
    {
     "data": {
      "text/plain": [
       "0.1256696408961332"
      ]
     },
     "execution_count": 41,
     "metadata": {},
     "output_type": "execute_result"
    }
   ],
   "source": [
    "df[\"sentiment_comment\"].std()"
   ]
  },
  {
   "cell_type": "code",
   "execution_count": 42,
   "metadata": {
    "colab": {
     "base_uri": "https://localhost:8080/"
    },
    "executionInfo": {
     "elapsed": 276,
     "status": "ok",
     "timestamp": 1711486667318,
     "user": {
      "displayName": "Keane Dylan",
      "userId": "00724804467965899666"
     },
     "user_tz": 240
    },
    "id": "JeURv3DE_UEi",
    "outputId": "d8b8094c-bf08-4dec-e1dd-de7926c9f819"
   },
   "outputs": [
    {
     "data": {
      "text/plain": [
       "20.391719745222932"
      ]
     },
     "execution_count": 42,
     "metadata": {},
     "output_type": "execute_result"
    }
   ],
   "source": [
    "2.5612 / 0.1256"
   ]
  },
  {
   "cell_type": "code",
   "execution_count": 43,
   "metadata": {
    "colab": {
     "base_uri": "https://localhost:8080/"
    },
    "executionInfo": {
     "elapsed": 4,
     "status": "ok",
     "timestamp": 1711486667318,
     "user": {
      "displayName": "Keane Dylan",
      "userId": "00724804467965899666"
     },
     "user_tz": 240
    },
    "id": "xspcLpqn_UEi",
    "outputId": "c8137293-a716-4f1d-def6-a8592b130fd8"
   },
   "outputs": [
    {
     "data": {
      "text/plain": [
       "717813070.2127041"
      ]
     },
     "execution_count": 43,
     "metadata": {},
     "output_type": "execute_result"
    }
   ],
   "source": [
    "np.exp(2.5612 / 0.1256)"
   ]
  },
  {
   "cell_type": "markdown",
   "metadata": {
    "id": "BE0Oe_Cl_UEi"
   },
   "source": [
    "however if we look from the perspective of before standardized increase in the original prestandardized would result in a  logit_coeff / std in increase. So for sentiment_comment, one unit increase in the original dataset would result in a 2.5612 / 0.1256 increase in the log odds or the odds will increase by $\\approx$ 717813070"
   ]
  },
  {
   "cell_type": "code",
   "execution_count": 44,
   "metadata": {
    "id": "DlVJuPn1_UEi"
   },
   "outputs": [],
   "source": [
    "v_final = v3_cols.copy()\n",
    "v_final.remove(\"const\")"
   ]
  },
  {
   "cell_type": "code",
   "execution_count": 45,
   "metadata": {
    "id": "6IdG8J4l_UEi"
   },
   "outputs": [],
   "source": [
    "df_final = df[v_final]"
   ]
  },
  {
   "cell_type": "code",
   "execution_count": 46,
   "metadata": {
    "id": "nHHOpGQB_UEi"
   },
   "outputs": [],
   "source": [
    "scaler_final = StandardScaler()"
   ]
  },
  {
   "cell_type": "code",
   "execution_count": 47,
   "metadata": {
    "id": "6ytsxrKF_UEi"
   },
   "outputs": [],
   "source": [
    "X_final_std = pd.DataFrame(scaler_final.fit_transform(df_final), columns=df_final.columns)"
   ]
  },
  {
   "cell_type": "code",
   "execution_count": 48,
   "metadata": {
    "colab": {
     "base_uri": "https://localhost:8080/"
    },
    "executionInfo": {
     "elapsed": 4,
     "status": "ok",
     "timestamp": 1711486667319,
     "user": {
      "displayName": "Keane Dylan",
      "userId": "00724804467965899666"
     },
     "user_tz": 240
    },
    "id": "klmIejSP_UEi",
    "outputId": "fbc64cd2-c68a-413e-c336-142851df82f4"
   },
   "outputs": [
    {
     "data": {
      "text/plain": [
       "0"
      ]
     },
     "execution_count": 48,
     "metadata": {},
     "output_type": "execute_result"
    }
   ],
   "source": [
    "(X_final_std != X_std_3.iloc[:,1:]).sum().sum()"
   ]
  },
  {
   "cell_type": "code",
   "execution_count": 49,
   "metadata": {
    "colab": {
     "base_uri": "https://localhost:8080/"
    },
    "executionInfo": {
     "elapsed": 3,
     "status": "ok",
     "timestamp": 1711486667319,
     "user": {
      "displayName": "Keane Dylan",
      "userId": "00724804467965899666"
     },
     "user_tz": 240
    },
    "id": "IdV3Y24N_UEi",
    "outputId": "e112700e-532f-453c-e754-92584949d6f4"
   },
   "outputs": [
    {
     "name": "stderr",
     "output_type": "stream",
     "text": [
      "C:\\Users\\kbzh\\anaconda3\\Lib\\site-packages\\sklearn\\base.py:464: UserWarning: X does not have valid feature names, but StandardScaler was fitted with feature names\n",
      "  warnings.warn(\n",
      "C:\\Users\\kbzh\\anaconda3\\Lib\\site-packages\\sklearn\\base.py:464: UserWarning: X does not have valid feature names, but StandardScaler was fitted with feature names\n",
      "  warnings.warn(\n"
     ]
    }
   ],
   "source": [
    "ones = scaler_final.transform([[1 for i in range(len(X_final_std.columns))]])\n",
    "zeros = scaler_final.transform([[0 for i in range(len(X_final_std.columns))]])"
   ]
  },
  {
   "cell_type": "code",
   "execution_count": 50,
   "metadata": {
    "id": "QR4aqLOT_UEi"
   },
   "outputs": [],
   "source": [
    "diffs = (ones - zeros)[0]"
   ]
  },
  {
   "cell_type": "code",
   "execution_count": 51,
   "metadata": {
    "id": "95w0fHXR_UEi"
   },
   "outputs": [],
   "source": [
    "log_odds_increase = []"
   ]
  },
  {
   "cell_type": "code",
   "execution_count": 52,
   "metadata": {
    "colab": {
     "base_uri": "https://localhost:8080/"
    },
    "executionInfo": {
     "elapsed": 3,
     "status": "ok",
     "timestamp": 1711486667563,
     "user": {
      "displayName": "Keane Dylan",
      "userId": "00724804467965899666"
     },
     "user_tz": 240
    },
    "id": "haljQ1AM_UEi",
    "outputId": "64d3d5dd-bfc5-4b9c-e8ab-ba95c1206db7"
   },
   "outputs": [
    {
     "name": "stdout",
     "output_type": "stream",
     "text": [
      "sentiment_comment :  20.38018924134666\n",
      "subjectivity_comment :  -5.487500214203079\n",
      "sentiment_tip :  0.15936065671560828\n",
      "subjectivity_tip :  0.10349198787280968\n",
      "checkins :  -0.005912096757587526\n",
      "BusinessAcceptsCreditCards_True :  0.6329159402566883\n",
      "BusinessParking_garage_True :  0.4124813826122034\n",
      "BusinessParking_valet_True :  -0.398905222435526\n",
      "BikeParking_True :  0.08573335251613644\n"
     ]
    }
   ],
   "source": [
    "for i in range(len(diffs)):\n",
    "    log_odds = diffs[i] * result.params.iloc[1:].values[i]\n",
    "    log_odds_increase.append(log_odds)\n",
    "    print(X_final_std.columns[i],\": \",log_odds)"
   ]
  },
  {
   "cell_type": "code",
   "execution_count": 53,
   "metadata": {
    "colab": {
     "base_uri": "https://localhost:8080/"
    },
    "executionInfo": {
     "elapsed": 218,
     "status": "ok",
     "timestamp": 1711487040909,
     "user": {
      "displayName": "Keane Dylan",
      "userId": "00724804467965899666"
     },
     "user_tz": 240
    },
    "id": "q0qQyoSc_UEj",
    "outputId": "1dc70cfa-b997-4a2b-fbfa-b2c529128790"
   },
   "outputs": [
    {
     "name": "stdout",
     "output_type": "stream",
     "text": [
      "Therefore after these calculations an increase in 1 unit within the original dataset or it being True (for boolean variables) (before standardization) would result in a:\n",
      "    sentiment_comment : make the rating to be positive  709583858.4774177  more likely to occur\n",
      "    subjectivity_comment : make the rating to be positive  0.004138175808550341  more likely to occur\n",
      "    sentiment_tip : make the rating to be positive  1.1727608344882305  more likely to occur\n",
      "    subjectivity_tip : make the rating to be positive  1.1090369075847086  more likely to occur\n",
      "    checkins : make the rating to be positive  0.9941053452964829  more likely to occur\n",
      "    BusinessAcceptsCreditCards_True : make the rating to be positive  1.883093569690037  more likely to occur\n",
      "    BusinessParking_garage_True : make the rating to be positive  1.510561419338151  more likely to occur\n",
      "    BusinessParking_valet_True : make the rating to be positive  0.6710542992316832  more likely to occur\n",
      "    BikeParking_True : make the rating to be positive  1.089515772929439  more likely to occur\n"
     ]
    }
   ],
   "source": [
    "odds_increase = [np.exp(x) for x in log_odds_increase]\n",
    "\n",
    "print(\"Therefore after these calculations an increase in 1 unit within the original dataset or it being True (for boolean variables) (before standardization) would result in a:\")\n",
    "for i in range(len(diffs)):\n",
    "    print(\"   \",X_final_std.columns[i],\": make the rating to be positive \",odds_increase[i], \" more likely to occur\")"
   ]
  },
  {
   "cell_type": "code",
   "execution_count": 54,
   "metadata": {
    "id": "LbAphbVY_UEj"
   },
   "outputs": [],
   "source": [
    "from sklearn.model_selection import train_test_split\n",
    "from sklearn.metrics import accuracy_score"
   ]
  },
  {
   "cell_type": "code",
   "execution_count": 55,
   "metadata": {
    "id": "ngnoS7iA_UEj"
   },
   "outputs": [],
   "source": [
    "import numpy as np\n",
    "\n",
    "def split_dataset_k_folds(dataset, k, random_seed=None):\n",
    "\n",
    "    indexes = list(dataset.index)\n",
    "\n",
    "    rs = np.random.RandomState(seed=random_seed)\n",
    "\n",
    "    rs.shuffle(indexes)\n",
    "\n",
    "    part_size = len(dataset) // k\n",
    "\n",
    "    folds = [indexes[i * part_size: (i+1) * part_size] for i in range(k-1)]\n",
    "    folds.append(indexes[(k-1) * part_size:])\n",
    "\n",
    "    return folds"
   ]
  },
  {
   "cell_type": "code",
   "execution_count": 56,
   "metadata": {
    "id": "gTwPhgJZ_UEj"
   },
   "outputs": [],
   "source": [
    "def train_sm_logit(X_train, X_test, y_train, y_test):\n",
    "    import statsmodels.api as sm\n",
    "    from sklearn.metrics import accuracy_score\n",
    "\n",
    "    logreg = sm.Logit(y_train, X_train)\n",
    "    result = logreg.fit()\n",
    "    y_pred = (result.predict(X_test) > 0.5).astype(int)\n",
    "\n",
    "    return (result, y_pred, y_test, accuracy_score(y_test, y_pred))"
   ]
  },
  {
   "cell_type": "code",
   "execution_count": 57,
   "metadata": {
    "id": "jG_lmBF1_UEj"
   },
   "outputs": [],
   "source": [
    "k = 10\n",
    "random_seed = 776"
   ]
  },
  {
   "cell_type": "code",
   "execution_count": 58,
   "metadata": {
    "id": "3HUuS-xG_UEj"
   },
   "outputs": [],
   "source": [
    "def cross_validation_in_sm(X, y, k, random_seed=None):\n",
    "\n",
    "    fold = split_dataset_k_folds(X, k, random_seed)\n",
    "\n",
    "    results = {}\n",
    "\n",
    "    for i in range(k):\n",
    "        train = [j for j in range(k) if j != i]\n",
    "\n",
    "        X_test = X.iloc[fold[i]]\n",
    "        y_test = y.iloc[fold[i]]\n",
    "\n",
    "        X_train = pd.concat([X.iloc[fold[j]] for j in train])\n",
    "        y_train = pd.concat([y.iloc[fold[j]] for j in train])\n",
    "\n",
    "        results[i] = train_sm_logit(X_train, X_test, y_train, y_test)\n",
    "\n",
    "    return results\n"
   ]
  },
  {
   "cell_type": "code",
   "execution_count": 59,
   "metadata": {
    "colab": {
     "base_uri": "https://localhost:8080/"
    },
    "executionInfo": {
     "elapsed": 6841,
     "status": "ok",
     "timestamp": 1711486674614,
     "user": {
      "displayName": "Keane Dylan",
      "userId": "00724804467965899666"
     },
     "user_tz": 240
    },
    "id": "QT4Reu6y_UEj",
    "outputId": "5603efc7-e71b-42fe-8cb3-45ffde44cd4b"
   },
   "outputs": [
    {
     "name": "stdout",
     "output_type": "stream",
     "text": [
      "Optimization terminated successfully.\n",
      "         Current function value: 0.428263\n",
      "         Iterations 7\n",
      "Optimization terminated successfully.\n",
      "         Current function value: 0.427475\n",
      "         Iterations 7\n",
      "Optimization terminated successfully.\n",
      "         Current function value: 0.427859\n",
      "         Iterations 7\n",
      "Optimization terminated successfully.\n",
      "         Current function value: 0.428400\n",
      "         Iterations 7\n",
      "Optimization terminated successfully.\n",
      "         Current function value: 0.428585\n",
      "         Iterations 7\n",
      "Optimization terminated successfully.\n",
      "         Current function value: 0.428091\n",
      "         Iterations 7\n",
      "Optimization terminated successfully.\n",
      "         Current function value: 0.428387\n",
      "         Iterations 7\n",
      "Optimization terminated successfully.\n",
      "         Current function value: 0.427346\n",
      "         Iterations 7\n",
      "Optimization terminated successfully.\n",
      "         Current function value: 0.428695\n",
      "         Iterations 7\n",
      "Optimization terminated successfully.\n",
      "         Current function value: 0.428289\n",
      "         Iterations 7\n"
     ]
    }
   ],
   "source": [
    "results = cross_validation_in_sm(X_std_3, y, k, random_seed)"
   ]
  },
  {
   "cell_type": "code",
   "execution_count": 60,
   "metadata": {
    "colab": {
     "base_uri": "https://localhost:8080/"
    },
    "executionInfo": {
     "elapsed": 18,
     "status": "ok",
     "timestamp": 1711486674614,
     "user": {
      "displayName": "Keane Dylan",
      "userId": "00724804467965899666"
     },
     "user_tz": 240
    },
    "id": "j8tmO4jb_UEj",
    "outputId": "dd3ba541-059d-4dae-8365-5f90fc3c09e3"
   },
   "outputs": [
    {
     "data": {
      "text/plain": [
       "0.809622789762747"
      ]
     },
     "execution_count": 60,
     "metadata": {},
     "output_type": "execute_result"
    }
   ],
   "source": [
    "np.mean([results[i][-1] for i in range(k)])"
   ]
  },
  {
   "cell_type": "markdown",
   "metadata": {
    "id": "LuR85n2K_UEj"
   },
   "source": [
    "After 10-fold CV we found that the model accuracy is 80.9%"
   ]
  },
  {
   "cell_type": "code",
   "execution_count": 61,
   "metadata": {
    "colab": {
     "base_uri": "https://localhost:8080/"
    },
    "executionInfo": {
     "elapsed": 16,
     "status": "ok",
     "timestamp": 1711486674614,
     "user": {
      "displayName": "Keane Dylan",
      "userId": "00724804467965899666"
     },
     "user_tz": 240
    },
    "id": "ToemTHc6_UEj",
    "outputId": "450a34e1-4e97-4b16-f883-9e04dc17aad5"
   },
   "outputs": [
    {
     "data": {
      "text/plain": [
       "7"
      ]
     },
     "execution_count": 61,
     "metadata": {},
     "output_type": "execute_result"
    }
   ],
   "source": [
    "# Grabbing the worst accuracy within the CVs\n",
    "np.argmin([results[i][-1] for i in range(k)])"
   ]
  },
  {
   "cell_type": "code",
   "execution_count": 62,
   "metadata": {
    "id": "2HalSVON_UEj"
   },
   "outputs": [],
   "source": [
    "y_pred = results[7][1]\n",
    "y_test = results[7][2]"
   ]
  },
  {
   "cell_type": "code",
   "execution_count": 63,
   "metadata": {
    "colab": {
     "base_uri": "https://localhost:8080/",
     "height": 807
    },
    "executionInfo": {
     "elapsed": 520,
     "status": "ok",
     "timestamp": 1711486675119,
     "user": {
      "displayName": "Keane Dylan",
      "userId": "00724804467965899666"
     },
     "user_tz": 240
    },
    "id": "vOdJAA1o_UEj",
    "outputId": "6ad8d877-617a-42e7-aa71-afd676f46cbf"
   },
   "outputs": [
    {
     "data": {
      "image/png": "[encoded data removed]",
      "text/plain": [
       "<Figure size 1000x1000 with 2 Axes>"
      ]
     },
     "metadata": {},
     "output_type": "display_data"
    }
   ],
   "source": [
    "# Normalized confusion matrix within the worst cross validation result\n",
    "show_confusion_matrix(y_test, y_pred)"
   ]
  }
 ],
 "metadata": {
  "colab": {
   "provenance": []
  },
  "kernelspec": {
   "display_name": "Python 3 (ipykernel)",
   "language": "python",
   "name": "python3"
  },
  "language_info": {
   "codemirror_mode": {
    "name": "ipython",
    "version": 3
   },
   "file_extension": ".py",
   "mimetype": "text/x-python",
   "name": "python",
   "nbconvert_exporter": "python",
   "pygments_lexer": "ipython3",
   "version": "3.11.5"
  }
 },
 "nbformat": 4,
 "nbformat_minor": 1
}
